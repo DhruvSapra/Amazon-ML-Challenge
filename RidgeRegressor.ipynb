{
  "cells": [
    {
      "cell_type": "code",
      "execution_count": 2,
      "metadata": {
        "colab": {
          "base_uri": "https://localhost:8080/"
        },
        "id": "pafL7Li0jyXW",
        "outputId": "4ddabcf3-cb41-4136-a26c-4e682d4e12f6"
      },
      "outputs": [
        {
          "name": "stdout",
          "output_type": "stream",
          "text": [
            "Mounted at /content/drive\n"
          ]
        }
      ],
      "source": [
        "from google.colab import drive\n",
        "drive.mount('/content/drive')"
      ]
    },
    {
      "cell_type": "markdown",
      "metadata": {
        "id": "xByfHCPmIo1s"
      },
      "source": [
        "## Importing Basic Utility Libraries"
      ]
    },
    {
      "cell_type": "code",
      "execution_count": 8,
      "metadata": {
        "id": "znGvjZYod0UF"
      },
      "outputs": [],
      "source": [
        "import os\n",
        "import numpy as np\n",
        "import pandas as pd \n",
        "import matplotlib.pyplot as plt\n",
        "%matplotlib inline\n",
        "import datetime\n",
        "import math\n",
        "import statistics as stats\n",
        "import scipy\n",
        "import seaborn"
      ]
    },
    {
      "cell_type": "code",
      "execution_count": 9,
      "metadata": {
        "colab": {
          "base_uri": "https://localhost:8080/",
          "height": 285
        },
        "id": "rHX1LbD5R8L1",
        "outputId": "c12bd71b-4e76-4fb2-c0e8-3159d399a609"
      },
      "outputs": [
        {
          "data": {
            "text/html": [
              "\n",
              "  <div id=\"df-758db724-5e0f-4a8d-806a-e2b9c56e6921\">\n",
              "    <div class=\"colab-df-container\">\n",
              "      <div>\n",
              "<style scoped>\n",
              "    .dataframe tbody tr th:only-of-type {\n",
              "        vertical-align: middle;\n",
              "    }\n",
              "\n",
              "    .dataframe tbody tr th {\n",
              "        vertical-align: top;\n",
              "    }\n",
              "\n",
              "    .dataframe thead th {\n",
              "        text-align: right;\n",
              "    }\n",
              "</style>\n",
              "<table border=\"1\" class=\"dataframe\">\n",
              "  <thead>\n",
              "    <tr style=\"text-align: right;\">\n",
              "      <th></th>\n",
              "      <th>PRODUCT_ID</th>\n",
              "      <th>TITLE</th>\n",
              "      <th>BULLET_POINTS</th>\n",
              "      <th>DESCRIPTION</th>\n",
              "      <th>PRODUCT_TYPE_ID</th>\n",
              "      <th>PRODUCT_LENGTH</th>\n",
              "    </tr>\n",
              "  </thead>\n",
              "  <tbody>\n",
              "    <tr>\n",
              "      <th>0</th>\n",
              "      <td>1925202</td>\n",
              "      <td>ArtzFolio Tulip Flowers Blackout Curtain for D...</td>\n",
              "      <td>[LUXURIOUS &amp; APPEALING: Beautiful custom-made ...</td>\n",
              "      <td>NaN</td>\n",
              "      <td>1650</td>\n",
              "      <td>2125.980000</td>\n",
              "    </tr>\n",
              "    <tr>\n",
              "      <th>1</th>\n",
              "      <td>2673191</td>\n",
              "      <td>Marks &amp; Spencer Girls' Pyjama Sets T86_2561C_N...</td>\n",
              "      <td>[Harry Potter Hedwig Pyjamas (6-16 Yrs),100% c...</td>\n",
              "      <td>NaN</td>\n",
              "      <td>2755</td>\n",
              "      <td>393.700000</td>\n",
              "    </tr>\n",
              "    <tr>\n",
              "      <th>2</th>\n",
              "      <td>2765088</td>\n",
              "      <td>PRIKNIK Horn Red Electric Air Horn Compressor ...</td>\n",
              "      <td>[Loud Dual Tone Trumpet Horn, Compatible With ...</td>\n",
              "      <td>Specifications: Color: Red, Material: Aluminiu...</td>\n",
              "      <td>7537</td>\n",
              "      <td>748.031495</td>\n",
              "    </tr>\n",
              "    <tr>\n",
              "      <th>3</th>\n",
              "      <td>1594019</td>\n",
              "      <td>ALISHAH Women's Cotton Ankle Length Leggings C...</td>\n",
              "      <td>[Made By 95%cotton and 5% Lycra which gives yo...</td>\n",
              "      <td>AISHAH Women's Lycra Cotton Ankel Leggings. Br...</td>\n",
              "      <td>2996</td>\n",
              "      <td>787.401574</td>\n",
              "    </tr>\n",
              "    <tr>\n",
              "      <th>4</th>\n",
              "      <td>283658</td>\n",
              "      <td>The United Empire Loyalists: A Chronicle of th...</td>\n",
              "      <td>NaN</td>\n",
              "      <td>NaN</td>\n",
              "      <td>6112</td>\n",
              "      <td>598.424000</td>\n",
              "    </tr>\n",
              "  </tbody>\n",
              "</table>\n",
              "</div>\n",
              "      <button class=\"colab-df-convert\" onclick=\"convertToInteractive('df-758db724-5e0f-4a8d-806a-e2b9c56e6921')\"\n",
              "              title=\"Convert this dataframe to an interactive table.\"\n",
              "              style=\"display:none;\">\n",
              "        \n",
              "  <svg xmlns=\"http://www.w3.org/2000/svg\" height=\"24px\"viewBox=\"0 0 24 24\"\n",
              "       width=\"24px\">\n",
              "    <path d=\"M0 0h24v24H0V0z\" fill=\"none\"/>\n",
              "    <path d=\"M18.56 5.44l.94 2.06.94-2.06 2.06-.94-2.06-.94-.94-2.06-.94 2.06-2.06.94zm-11 1L8.5 8.5l.94-2.06 2.06-.94-2.06-.94L8.5 2.5l-.94 2.06-2.06.94zm10 10l.94 2.06.94-2.06 2.06-.94-2.06-.94-.94-2.06-.94 2.06-2.06.94z\"/><path d=\"M17.41 7.96l-1.37-1.37c-.4-.4-.92-.59-1.43-.59-.52 0-1.04.2-1.43.59L10.3 9.45l-7.72 7.72c-.78.78-.78 2.05 0 2.83L4 21.41c.39.39.9.59 1.41.59.51 0 1.02-.2 1.41-.59l7.78-7.78 2.81-2.81c.8-.78.8-2.07 0-2.86zM5.41 20L4 18.59l7.72-7.72 1.47 1.35L5.41 20z\"/>\n",
              "  </svg>\n",
              "      </button>\n",
              "      \n",
              "  <style>\n",
              "    .colab-df-container {\n",
              "      display:flex;\n",
              "      flex-wrap:wrap;\n",
              "      gap: 12px;\n",
              "    }\n",
              "\n",
              "    .colab-df-convert {\n",
              "      background-color: #E8F0FE;\n",
              "      border: none;\n",
              "      border-radius: 50%;\n",
              "      cursor: pointer;\n",
              "      display: none;\n",
              "      fill: #1967D2;\n",
              "      height: 32px;\n",
              "      padding: 0 0 0 0;\n",
              "      width: 32px;\n",
              "    }\n",
              "\n",
              "    .colab-df-convert:hover {\n",
              "      background-color: #E2EBFA;\n",
              "      box-shadow: 0px 1px 2px rgba(60, 64, 67, 0.3), 0px 1px 3px 1px rgba(60, 64, 67, 0.15);\n",
              "      fill: #174EA6;\n",
              "    }\n",
              "\n",
              "    [theme=dark] .colab-df-convert {\n",
              "      background-color: #3B4455;\n",
              "      fill: #D2E3FC;\n",
              "    }\n",
              "\n",
              "    [theme=dark] .colab-df-convert:hover {\n",
              "      background-color: #434B5C;\n",
              "      box-shadow: 0px 1px 3px 1px rgba(0, 0, 0, 0.15);\n",
              "      filter: drop-shadow(0px 1px 2px rgba(0, 0, 0, 0.3));\n",
              "      fill: #FFFFFF;\n",
              "    }\n",
              "  </style>\n",
              "\n",
              "      <script>\n",
              "        const buttonEl =\n",
              "          document.querySelector('#df-758db724-5e0f-4a8d-806a-e2b9c56e6921 button.colab-df-convert');\n",
              "        buttonEl.style.display =\n",
              "          google.colab.kernel.accessAllowed ? 'block' : 'none';\n",
              "\n",
              "        async function convertToInteractive(key) {\n",
              "          const element = document.querySelector('#df-758db724-5e0f-4a8d-806a-e2b9c56e6921');\n",
              "          const dataTable =\n",
              "            await google.colab.kernel.invokeFunction('convertToInteractive',\n",
              "                                                     [key], {});\n",
              "          if (!dataTable) return;\n",
              "\n",
              "          const docLinkHtml = 'Like what you see? Visit the ' +\n",
              "            '<a target=\"_blank\" href=https://colab.research.google.com/notebooks/data_table.ipynb>data table notebook</a>'\n",
              "            + ' to learn more about interactive tables.';\n",
              "          element.innerHTML = '';\n",
              "          dataTable['output_type'] = 'display_data';\n",
              "          await google.colab.output.renderOutput(dataTable, element);\n",
              "          const docLink = document.createElement('div');\n",
              "          docLink.innerHTML = docLinkHtml;\n",
              "          element.appendChild(docLink);\n",
              "        }\n",
              "      </script>\n",
              "    </div>\n",
              "  </div>\n",
              "  "
            ],
            "text/plain": [
              "   PRODUCT_ID                                              TITLE  \\\n",
              "0     1925202  ArtzFolio Tulip Flowers Blackout Curtain for D...   \n",
              "1     2673191  Marks & Spencer Girls' Pyjama Sets T86_2561C_N...   \n",
              "2     2765088  PRIKNIK Horn Red Electric Air Horn Compressor ...   \n",
              "3     1594019  ALISHAH Women's Cotton Ankle Length Leggings C...   \n",
              "4      283658  The United Empire Loyalists: A Chronicle of th...   \n",
              "\n",
              "                                       BULLET_POINTS  \\\n",
              "0  [LUXURIOUS & APPEALING: Beautiful custom-made ...   \n",
              "1  [Harry Potter Hedwig Pyjamas (6-16 Yrs),100% c...   \n",
              "2  [Loud Dual Tone Trumpet Horn, Compatible With ...   \n",
              "3  [Made By 95%cotton and 5% Lycra which gives yo...   \n",
              "4                                                NaN   \n",
              "\n",
              "                                         DESCRIPTION  PRODUCT_TYPE_ID  \\\n",
              "0                                                NaN             1650   \n",
              "1                                                NaN             2755   \n",
              "2  Specifications: Color: Red, Material: Aluminiu...             7537   \n",
              "3  AISHAH Women's Lycra Cotton Ankel Leggings. Br...             2996   \n",
              "4                                                NaN             6112   \n",
              "\n",
              "   PRODUCT_LENGTH  \n",
              "0     2125.980000  \n",
              "1      393.700000  \n",
              "2      748.031495  \n",
              "3      787.401574  \n",
              "4      598.424000  "
            ]
          },
          "execution_count": 9,
          "metadata": {},
          "output_type": "execute_result"
        }
      ],
      "source": [
        "train_df = pd.read_csv(\"/content/drive/MyDrive/Amazon ML/dataset/train.csv\")\n",
        "test_df = pd.read_csv(\"/content/drive/MyDrive/Amazon ML/dataset/test.csv\")\n",
        "sample_submission_df = pd.read_csv(\"/content/drive/MyDrive/Amazon ML/dataset/sample_submission.csv\")\n",
        "train_df.head()"
      ]
    },
    {
      "cell_type": "code",
      "execution_count": null,
      "metadata": {
        "colab": {
          "base_uri": "https://localhost:8080/"
        },
        "id": "GQW5fofdNjSX",
        "outputId": "20b9234c-6e75-4b6a-e45c-d73bf58a9270"
      },
      "outputs": [
        {
          "name": "stdout",
          "output_type": "stream",
          "text": [
            "Dimensions:  (2249698, 6)\n",
            "PRODUCT_ID           int64\n",
            "TITLE               object\n",
            "BULLET_POINTS       object\n",
            "DESCRIPTION         object\n",
            "PRODUCT_TYPE_ID      int64\n",
            "PRODUCT_LENGTH     float64\n",
            "dtype: object\n"
          ]
        }
      ],
      "source": [
        "print(\"Dimensions: \", train_df.shape)\n",
        "num_row = train_df.shape[0]\n",
        "num_col = train_df.shape[1]\n",
        "print(train_df.dtypes)"
      ]
    },
    {
      "cell_type": "code",
      "execution_count": null,
      "metadata": {
        "id": "wARBVVmBOOTH"
      },
      "outputs": [],
      "source": [
        "data = train_df.copy()"
      ]
    },
    {
      "cell_type": "code",
      "execution_count": null,
      "metadata": {
        "id": "8mj1KLFQe2PU"
      },
      "outputs": [],
      "source": [
        "test_data = test_df.copy()"
      ]
    },
    {
      "cell_type": "code",
      "execution_count": null,
      "metadata": {
        "colab": {
          "base_uri": "https://localhost:8080/"
        },
        "id": "K_DDpXQVOfdD",
        "outputId": "9e3244da-d16c-4285-a834-95f85f59c348"
      },
      "outputs": [
        {
          "data": {
            "text/plain": [
              "PRODUCT_ID               0\n",
              "TITLE                   12\n",
              "BULLET_POINTS       837364\n",
              "DESCRIPTION        1157381\n",
              "PRODUCT_TYPE_ID          0\n",
              "PRODUCT_LENGTH           0\n",
              "dtype: int64"
            ]
          },
          "execution_count": 6,
          "metadata": {},
          "output_type": "execute_result"
        }
      ],
      "source": [
        "data.isna().sum()"
      ]
    },
    {
      "cell_type": "code",
      "execution_count": null,
      "metadata": {
        "colab": {
          "base_uri": "https://localhost:8080/"
        },
        "id": "ZFxsW-3Ge6oe",
        "outputId": "78c736a9-697c-41a7-959f-8de68ecc8a51"
      },
      "outputs": [
        {
          "data": {
            "text/plain": [
              "PRODUCT_ID              0\n",
              "TITLE                   5\n",
              "BULLET_POINTS      275922\n",
              "DESCRIPTION        380001\n",
              "PRODUCT_TYPE_ID         0\n",
              "dtype: int64"
            ]
          },
          "execution_count": 7,
          "metadata": {},
          "output_type": "execute_result"
        }
      ],
      "source": [
        "test_data.isna().sum()"
      ]
    },
    {
      "cell_type": "markdown",
      "metadata": {
        "id": "QrBR4B3RI5cQ"
      },
      "source": [
        "### Filling Missing (NaN) Values"
      ]
    },
    {
      "cell_type": "code",
      "execution_count": null,
      "metadata": {
        "id": "EIW_xP-aOzXA"
      },
      "outputs": [],
      "source": [
        "data.fillna(\"\", inplace = True)"
      ]
    },
    {
      "cell_type": "code",
      "execution_count": null,
      "metadata": {
        "id": "p9fRJgb0e9rz"
      },
      "outputs": [],
      "source": [
        "test_data.fillna(\"\", inplace = True)"
      ]
    },
    {
      "cell_type": "code",
      "execution_count": null,
      "metadata": {
        "colab": {
          "base_uri": "https://localhost:8080/"
        },
        "id": "K7vCXzSfO8Eu",
        "outputId": "afdb80cd-3c29-4129-df56-0737eb2a24d0"
      },
      "outputs": [
        {
          "data": {
            "text/plain": [
              "PRODUCT_ID         0\n",
              "TITLE              0\n",
              "BULLET_POINTS      0\n",
              "DESCRIPTION        0\n",
              "PRODUCT_TYPE_ID    0\n",
              "PRODUCT_LENGTH     0\n",
              "dtype: int64"
            ]
          },
          "execution_count": 10,
          "metadata": {},
          "output_type": "execute_result"
        }
      ],
      "source": [
        "data.isna().sum()"
      ]
    },
    {
      "cell_type": "code",
      "execution_count": null,
      "metadata": {
        "colab": {
          "base_uri": "https://localhost:8080/"
        },
        "id": "pAB-VEnWfBD5",
        "outputId": "8e07a8b1-6062-4272-cb88-013c84d3b6b9"
      },
      "outputs": [
        {
          "data": {
            "text/plain": [
              "PRODUCT_ID         0\n",
              "TITLE              0\n",
              "BULLET_POINTS      0\n",
              "DESCRIPTION        0\n",
              "PRODUCT_TYPE_ID    0\n",
              "dtype: int64"
            ]
          },
          "execution_count": 11,
          "metadata": {},
          "output_type": "execute_result"
        }
      ],
      "source": [
        "test_data.isna().sum()"
      ]
    },
    {
      "cell_type": "code",
      "execution_count": null,
      "metadata": {
        "colab": {
          "base_uri": "https://localhost:8080/",
          "height": 337
        },
        "id": "t5ZhdOdNO-Gx",
        "outputId": "3f32f81d-eba9-4aad-9a15-a483d799d9ab"
      },
      "outputs": [
        {
          "data": {
            "text/html": [
              "\n",
              "  <div id=\"df-8f521600-ea7a-4cab-a146-5bf185d80eb2\">\n",
              "    <div class=\"colab-df-container\">\n",
              "      <div>\n",
              "<style scoped>\n",
              "    .dataframe tbody tr th:only-of-type {\n",
              "        vertical-align: middle;\n",
              "    }\n",
              "\n",
              "    .dataframe tbody tr th {\n",
              "        vertical-align: top;\n",
              "    }\n",
              "\n",
              "    .dataframe thead th {\n",
              "        text-align: right;\n",
              "    }\n",
              "</style>\n",
              "<table border=\"1\" class=\"dataframe\">\n",
              "  <thead>\n",
              "    <tr style=\"text-align: right;\">\n",
              "      <th></th>\n",
              "      <th>PRODUCT_ID</th>\n",
              "      <th>TITLE</th>\n",
              "      <th>BULLET_POINTS</th>\n",
              "      <th>DESCRIPTION</th>\n",
              "      <th>PRODUCT_TYPE_ID</th>\n",
              "      <th>PRODUCT_LENGTH</th>\n",
              "    </tr>\n",
              "  </thead>\n",
              "  <tbody>\n",
              "    <tr>\n",
              "      <th>0</th>\n",
              "      <td>1925202</td>\n",
              "      <td>ArtzFolio Tulip Flowers Blackout Curtain for D...</td>\n",
              "      <td>[LUXURIOUS &amp; APPEALING: Beautiful custom-made ...</td>\n",
              "      <td></td>\n",
              "      <td>1650</td>\n",
              "      <td>2125.980000</td>\n",
              "    </tr>\n",
              "    <tr>\n",
              "      <th>1</th>\n",
              "      <td>2673191</td>\n",
              "      <td>Marks &amp; Spencer Girls' Pyjama Sets T86_2561C_N...</td>\n",
              "      <td>[Harry Potter Hedwig Pyjamas (6-16 Yrs),100% c...</td>\n",
              "      <td></td>\n",
              "      <td>2755</td>\n",
              "      <td>393.700000</td>\n",
              "    </tr>\n",
              "    <tr>\n",
              "      <th>2</th>\n",
              "      <td>2765088</td>\n",
              "      <td>PRIKNIK Horn Red Electric Air Horn Compressor ...</td>\n",
              "      <td>[Loud Dual Tone Trumpet Horn, Compatible With ...</td>\n",
              "      <td>Specifications: Color: Red, Material: Aluminiu...</td>\n",
              "      <td>7537</td>\n",
              "      <td>748.031495</td>\n",
              "    </tr>\n",
              "    <tr>\n",
              "      <th>3</th>\n",
              "      <td>1594019</td>\n",
              "      <td>ALISHAH Women's Cotton Ankle Length Leggings C...</td>\n",
              "      <td>[Made By 95%cotton and 5% Lycra which gives yo...</td>\n",
              "      <td>AISHAH Women's Lycra Cotton Ankel Leggings. Br...</td>\n",
              "      <td>2996</td>\n",
              "      <td>787.401574</td>\n",
              "    </tr>\n",
              "    <tr>\n",
              "      <th>4</th>\n",
              "      <td>283658</td>\n",
              "      <td>The United Empire Loyalists: A Chronicle of th...</td>\n",
              "      <td></td>\n",
              "      <td></td>\n",
              "      <td>6112</td>\n",
              "      <td>598.424000</td>\n",
              "    </tr>\n",
              "  </tbody>\n",
              "</table>\n",
              "</div>\n",
              "      <button class=\"colab-df-convert\" onclick=\"convertToInteractive('df-8f521600-ea7a-4cab-a146-5bf185d80eb2')\"\n",
              "              title=\"Convert this dataframe to an interactive table.\"\n",
              "              style=\"display:none;\">\n",
              "        \n",
              "  <svg xmlns=\"http://www.w3.org/2000/svg\" height=\"24px\"viewBox=\"0 0 24 24\"\n",
              "       width=\"24px\">\n",
              "    <path d=\"M0 0h24v24H0V0z\" fill=\"none\"/>\n",
              "    <path d=\"M18.56 5.44l.94 2.06.94-2.06 2.06-.94-2.06-.94-.94-2.06-.94 2.06-2.06.94zm-11 1L8.5 8.5l.94-2.06 2.06-.94-2.06-.94L8.5 2.5l-.94 2.06-2.06.94zm10 10l.94 2.06.94-2.06 2.06-.94-2.06-.94-.94-2.06-.94 2.06-2.06.94z\"/><path d=\"M17.41 7.96l-1.37-1.37c-.4-.4-.92-.59-1.43-.59-.52 0-1.04.2-1.43.59L10.3 9.45l-7.72 7.72c-.78.78-.78 2.05 0 2.83L4 21.41c.39.39.9.59 1.41.59.51 0 1.02-.2 1.41-.59l7.78-7.78 2.81-2.81c.8-.78.8-2.07 0-2.86zM5.41 20L4 18.59l7.72-7.72 1.47 1.35L5.41 20z\"/>\n",
              "  </svg>\n",
              "      </button>\n",
              "      \n",
              "  <style>\n",
              "    .colab-df-container {\n",
              "      display:flex;\n",
              "      flex-wrap:wrap;\n",
              "      gap: 12px;\n",
              "    }\n",
              "\n",
              "    .colab-df-convert {\n",
              "      background-color: #E8F0FE;\n",
              "      border: none;\n",
              "      border-radius: 50%;\n",
              "      cursor: pointer;\n",
              "      display: none;\n",
              "      fill: #1967D2;\n",
              "      height: 32px;\n",
              "      padding: 0 0 0 0;\n",
              "      width: 32px;\n",
              "    }\n",
              "\n",
              "    .colab-df-convert:hover {\n",
              "      background-color: #E2EBFA;\n",
              "      box-shadow: 0px 1px 2px rgba(60, 64, 67, 0.3), 0px 1px 3px 1px rgba(60, 64, 67, 0.15);\n",
              "      fill: #174EA6;\n",
              "    }\n",
              "\n",
              "    [theme=dark] .colab-df-convert {\n",
              "      background-color: #3B4455;\n",
              "      fill: #D2E3FC;\n",
              "    }\n",
              "\n",
              "    [theme=dark] .colab-df-convert:hover {\n",
              "      background-color: #434B5C;\n",
              "      box-shadow: 0px 1px 3px 1px rgba(0, 0, 0, 0.15);\n",
              "      filter: drop-shadow(0px 1px 2px rgba(0, 0, 0, 0.3));\n",
              "      fill: #FFFFFF;\n",
              "    }\n",
              "  </style>\n",
              "\n",
              "      <script>\n",
              "        const buttonEl =\n",
              "          document.querySelector('#df-8f521600-ea7a-4cab-a146-5bf185d80eb2 button.colab-df-convert');\n",
              "        buttonEl.style.display =\n",
              "          google.colab.kernel.accessAllowed ? 'block' : 'none';\n",
              "\n",
              "        async function convertToInteractive(key) {\n",
              "          const element = document.querySelector('#df-8f521600-ea7a-4cab-a146-5bf185d80eb2');\n",
              "          const dataTable =\n",
              "            await google.colab.kernel.invokeFunction('convertToInteractive',\n",
              "                                                     [key], {});\n",
              "          if (!dataTable) return;\n",
              "\n",
              "          const docLinkHtml = 'Like what you see? Visit the ' +\n",
              "            '<a target=\"_blank\" href=https://colab.research.google.com/notebooks/data_table.ipynb>data table notebook</a>'\n",
              "            + ' to learn more about interactive tables.';\n",
              "          element.innerHTML = '';\n",
              "          dataTable['output_type'] = 'display_data';\n",
              "          await google.colab.output.renderOutput(dataTable, element);\n",
              "          const docLink = document.createElement('div');\n",
              "          docLink.innerHTML = docLinkHtml;\n",
              "          element.appendChild(docLink);\n",
              "        }\n",
              "      </script>\n",
              "    </div>\n",
              "  </div>\n",
              "  "
            ],
            "text/plain": [
              "   PRODUCT_ID                                              TITLE  \\\n",
              "0     1925202  ArtzFolio Tulip Flowers Blackout Curtain for D...   \n",
              "1     2673191  Marks & Spencer Girls' Pyjama Sets T86_2561C_N...   \n",
              "2     2765088  PRIKNIK Horn Red Electric Air Horn Compressor ...   \n",
              "3     1594019  ALISHAH Women's Cotton Ankle Length Leggings C...   \n",
              "4      283658  The United Empire Loyalists: A Chronicle of th...   \n",
              "\n",
              "                                       BULLET_POINTS  \\\n",
              "0  [LUXURIOUS & APPEALING: Beautiful custom-made ...   \n",
              "1  [Harry Potter Hedwig Pyjamas (6-16 Yrs),100% c...   \n",
              "2  [Loud Dual Tone Trumpet Horn, Compatible With ...   \n",
              "3  [Made By 95%cotton and 5% Lycra which gives yo...   \n",
              "4                                                      \n",
              "\n",
              "                                         DESCRIPTION  PRODUCT_TYPE_ID  \\\n",
              "0                                                                1650   \n",
              "1                                                                2755   \n",
              "2  Specifications: Color: Red, Material: Aluminiu...             7537   \n",
              "3  AISHAH Women's Lycra Cotton Ankel Leggings. Br...             2996   \n",
              "4                                                                6112   \n",
              "\n",
              "   PRODUCT_LENGTH  \n",
              "0     2125.980000  \n",
              "1      393.700000  \n",
              "2      748.031495  \n",
              "3      787.401574  \n",
              "4      598.424000  "
            ]
          },
          "execution_count": 12,
          "metadata": {},
          "output_type": "execute_result"
        }
      ],
      "source": [
        "data.head()"
      ]
    },
    {
      "cell_type": "code",
      "execution_count": null,
      "metadata": {
        "colab": {
          "base_uri": "https://localhost:8080/",
          "height": 337
        },
        "id": "Al7Fvf1lfEZS",
        "outputId": "6e147866-a71f-4389-fbdd-c841521a84b9"
      },
      "outputs": [
        {
          "data": {
            "text/html": [
              "\n",
              "  <div id=\"df-add6c92e-5da6-4902-b55e-4837cf86209b\">\n",
              "    <div class=\"colab-df-container\">\n",
              "      <div>\n",
              "<style scoped>\n",
              "    .dataframe tbody tr th:only-of-type {\n",
              "        vertical-align: middle;\n",
              "    }\n",
              "\n",
              "    .dataframe tbody tr th {\n",
              "        vertical-align: top;\n",
              "    }\n",
              "\n",
              "    .dataframe thead th {\n",
              "        text-align: right;\n",
              "    }\n",
              "</style>\n",
              "<table border=\"1\" class=\"dataframe\">\n",
              "  <thead>\n",
              "    <tr style=\"text-align: right;\">\n",
              "      <th></th>\n",
              "      <th>PRODUCT_ID</th>\n",
              "      <th>TITLE</th>\n",
              "      <th>BULLET_POINTS</th>\n",
              "      <th>DESCRIPTION</th>\n",
              "      <th>PRODUCT_TYPE_ID</th>\n",
              "    </tr>\n",
              "  </thead>\n",
              "  <tbody>\n",
              "    <tr>\n",
              "      <th>0</th>\n",
              "      <td>604373</td>\n",
              "      <td>Manuel d'Héliogravure Et de Photogravure En Re...</td>\n",
              "      <td></td>\n",
              "      <td></td>\n",
              "      <td>6142</td>\n",
              "    </tr>\n",
              "    <tr>\n",
              "      <th>1</th>\n",
              "      <td>1729783</td>\n",
              "      <td>DCGARING Microfiber Throw Blanket Warm Fuzzy P...</td>\n",
              "      <td>[QUALITY GUARANTEED: Luxury cozy plush polyest...</td>\n",
              "      <td>&lt;b&gt;DCGARING Throw Blanket&lt;/b&gt;&lt;br&gt;&lt;br&gt; &lt;b&gt;Size ...</td>\n",
              "      <td>1622</td>\n",
              "    </tr>\n",
              "    <tr>\n",
              "      <th>2</th>\n",
              "      <td>1871949</td>\n",
              "      <td>I-Match Auto Parts Front License Plate Bracket...</td>\n",
              "      <td>[Front License Plate Bracket Made Of Plastic,D...</td>\n",
              "      <td>Replacement for The Following Vehicles:2020 LE...</td>\n",
              "      <td>7540</td>\n",
              "    </tr>\n",
              "    <tr>\n",
              "      <th>3</th>\n",
              "      <td>1107571</td>\n",
              "      <td>PinMart Gold Plated Excellence in Service 1 Ye...</td>\n",
              "      <td>[Available as a single item or bulk packed. Se...</td>\n",
              "      <td>Our Excellence in Service Lapel Pins feature a...</td>\n",
              "      <td>12442</td>\n",
              "    </tr>\n",
              "    <tr>\n",
              "      <th>4</th>\n",
              "      <td>624253</td>\n",
              "      <td>Visual Mathematics, Illustrated by the TI-92 a...</td>\n",
              "      <td></td>\n",
              "      <td></td>\n",
              "      <td>6318</td>\n",
              "    </tr>\n",
              "  </tbody>\n",
              "</table>\n",
              "</div>\n",
              "      <button class=\"colab-df-convert\" onclick=\"convertToInteractive('df-add6c92e-5da6-4902-b55e-4837cf86209b')\"\n",
              "              title=\"Convert this dataframe to an interactive table.\"\n",
              "              style=\"display:none;\">\n",
              "        \n",
              "  <svg xmlns=\"http://www.w3.org/2000/svg\" height=\"24px\"viewBox=\"0 0 24 24\"\n",
              "       width=\"24px\">\n",
              "    <path d=\"M0 0h24v24H0V0z\" fill=\"none\"/>\n",
              "    <path d=\"M18.56 5.44l.94 2.06.94-2.06 2.06-.94-2.06-.94-.94-2.06-.94 2.06-2.06.94zm-11 1L8.5 8.5l.94-2.06 2.06-.94-2.06-.94L8.5 2.5l-.94 2.06-2.06.94zm10 10l.94 2.06.94-2.06 2.06-.94-2.06-.94-.94-2.06-.94 2.06-2.06.94z\"/><path d=\"M17.41 7.96l-1.37-1.37c-.4-.4-.92-.59-1.43-.59-.52 0-1.04.2-1.43.59L10.3 9.45l-7.72 7.72c-.78.78-.78 2.05 0 2.83L4 21.41c.39.39.9.59 1.41.59.51 0 1.02-.2 1.41-.59l7.78-7.78 2.81-2.81c.8-.78.8-2.07 0-2.86zM5.41 20L4 18.59l7.72-7.72 1.47 1.35L5.41 20z\"/>\n",
              "  </svg>\n",
              "      </button>\n",
              "      \n",
              "  <style>\n",
              "    .colab-df-container {\n",
              "      display:flex;\n",
              "      flex-wrap:wrap;\n",
              "      gap: 12px;\n",
              "    }\n",
              "\n",
              "    .colab-df-convert {\n",
              "      background-color: #E8F0FE;\n",
              "      border: none;\n",
              "      border-radius: 50%;\n",
              "      cursor: pointer;\n",
              "      display: none;\n",
              "      fill: #1967D2;\n",
              "      height: 32px;\n",
              "      padding: 0 0 0 0;\n",
              "      width: 32px;\n",
              "    }\n",
              "\n",
              "    .colab-df-convert:hover {\n",
              "      background-color: #E2EBFA;\n",
              "      box-shadow: 0px 1px 2px rgba(60, 64, 67, 0.3), 0px 1px 3px 1px rgba(60, 64, 67, 0.15);\n",
              "      fill: #174EA6;\n",
              "    }\n",
              "\n",
              "    [theme=dark] .colab-df-convert {\n",
              "      background-color: #3B4455;\n",
              "      fill: #D2E3FC;\n",
              "    }\n",
              "\n",
              "    [theme=dark] .colab-df-convert:hover {\n",
              "      background-color: #434B5C;\n",
              "      box-shadow: 0px 1px 3px 1px rgba(0, 0, 0, 0.15);\n",
              "      filter: drop-shadow(0px 1px 2px rgba(0, 0, 0, 0.3));\n",
              "      fill: #FFFFFF;\n",
              "    }\n",
              "  </style>\n",
              "\n",
              "      <script>\n",
              "        const buttonEl =\n",
              "          document.querySelector('#df-add6c92e-5da6-4902-b55e-4837cf86209b button.colab-df-convert');\n",
              "        buttonEl.style.display =\n",
              "          google.colab.kernel.accessAllowed ? 'block' : 'none';\n",
              "\n",
              "        async function convertToInteractive(key) {\n",
              "          const element = document.querySelector('#df-add6c92e-5da6-4902-b55e-4837cf86209b');\n",
              "          const dataTable =\n",
              "            await google.colab.kernel.invokeFunction('convertToInteractive',\n",
              "                                                     [key], {});\n",
              "          if (!dataTable) return;\n",
              "\n",
              "          const docLinkHtml = 'Like what you see? Visit the ' +\n",
              "            '<a target=\"_blank\" href=https://colab.research.google.com/notebooks/data_table.ipynb>data table notebook</a>'\n",
              "            + ' to learn more about interactive tables.';\n",
              "          element.innerHTML = '';\n",
              "          dataTable['output_type'] = 'display_data';\n",
              "          await google.colab.output.renderOutput(dataTable, element);\n",
              "          const docLink = document.createElement('div');\n",
              "          docLink.innerHTML = docLinkHtml;\n",
              "          element.appendChild(docLink);\n",
              "        }\n",
              "      </script>\n",
              "    </div>\n",
              "  </div>\n",
              "  "
            ],
            "text/plain": [
              "   PRODUCT_ID                                              TITLE  \\\n",
              "0      604373  Manuel d'Héliogravure Et de Photogravure En Re...   \n",
              "1     1729783  DCGARING Microfiber Throw Blanket Warm Fuzzy P...   \n",
              "2     1871949  I-Match Auto Parts Front License Plate Bracket...   \n",
              "3     1107571  PinMart Gold Plated Excellence in Service 1 Ye...   \n",
              "4      624253  Visual Mathematics, Illustrated by the TI-92 a...   \n",
              "\n",
              "                                       BULLET_POINTS  \\\n",
              "0                                                      \n",
              "1  [QUALITY GUARANTEED: Luxury cozy plush polyest...   \n",
              "2  [Front License Plate Bracket Made Of Plastic,D...   \n",
              "3  [Available as a single item or bulk packed. Se...   \n",
              "4                                                      \n",
              "\n",
              "                                         DESCRIPTION  PRODUCT_TYPE_ID  \n",
              "0                                                                6142  \n",
              "1  <b>DCGARING Throw Blanket</b><br><br> <b>Size ...             1622  \n",
              "2  Replacement for The Following Vehicles:2020 LE...             7540  \n",
              "3  Our Excellence in Service Lapel Pins feature a...            12442  \n",
              "4                                                                6318  "
            ]
          },
          "execution_count": 13,
          "metadata": {},
          "output_type": "execute_result"
        }
      ],
      "source": [
        "test_data.head()"
      ]
    },
    {
      "cell_type": "code",
      "execution_count": null,
      "metadata": {
        "colab": {
          "base_uri": "https://localhost:8080/"
        },
        "id": "zbSCJ5lYfOEq",
        "outputId": "d44ad7fc-4ec7-4a22-b4cc-d827305e9860"
      },
      "outputs": [
        {
          "data": {
            "text/plain": [
              "734736"
            ]
          },
          "execution_count": 14,
          "metadata": {},
          "output_type": "execute_result"
        }
      ],
      "source": [
        "len(test_data)"
      ]
    },
    {
      "cell_type": "markdown",
      "metadata": {
        "id": "FjAxUb1zI2pn"
      },
      "source": [
        "### Removing Duplicates"
      ]
    },
    {
      "cell_type": "code",
      "execution_count": null,
      "metadata": {
        "id": "_7_kijQ6O_70"
      },
      "outputs": [],
      "source": [
        "dataset = data.loc[~data.duplicated(subset = [\"TITLE\",\"BULLET_POINTS\",\"DESCRIPTION\"])]"
      ]
    },
    {
      "cell_type": "code",
      "execution_count": null,
      "metadata": {
        "colab": {
          "base_uri": "https://localhost:8080/"
        },
        "id": "fn7kOxFPPGxz",
        "outputId": "d625ad1d-9804-4ec0-e90e-380d1f6d4a65"
      },
      "outputs": [
        {
          "data": {
            "text/plain": [
              "2217443"
            ]
          },
          "execution_count": 16,
          "metadata": {},
          "output_type": "execute_result"
        }
      ],
      "source": [
        "len(dataset)"
      ]
    },
    {
      "cell_type": "code",
      "execution_count": null,
      "metadata": {
        "colab": {
          "base_uri": "https://localhost:8080/",
          "height": 337
        },
        "id": "y8gwdL2GSRO8",
        "outputId": "fd1ad357-eafd-47ea-aed0-5aa5cc282956"
      },
      "outputs": [
        {
          "data": {
            "text/html": [
              "\n",
              "  <div id=\"df-914f9ac3-d199-4cf4-bf82-6bbebc72cbb2\">\n",
              "    <div class=\"colab-df-container\">\n",
              "      <div>\n",
              "<style scoped>\n",
              "    .dataframe tbody tr th:only-of-type {\n",
              "        vertical-align: middle;\n",
              "    }\n",
              "\n",
              "    .dataframe tbody tr th {\n",
              "        vertical-align: top;\n",
              "    }\n",
              "\n",
              "    .dataframe thead th {\n",
              "        text-align: right;\n",
              "    }\n",
              "</style>\n",
              "<table border=\"1\" class=\"dataframe\">\n",
              "  <thead>\n",
              "    <tr style=\"text-align: right;\">\n",
              "      <th></th>\n",
              "      <th>PRODUCT_ID</th>\n",
              "      <th>TITLE</th>\n",
              "      <th>BULLET_POINTS</th>\n",
              "      <th>DESCRIPTION</th>\n",
              "      <th>PRODUCT_TYPE_ID</th>\n",
              "      <th>PRODUCT_LENGTH</th>\n",
              "    </tr>\n",
              "  </thead>\n",
              "  <tbody>\n",
              "    <tr>\n",
              "      <th>0</th>\n",
              "      <td>1925202</td>\n",
              "      <td>ArtzFolio Tulip Flowers Blackout Curtain for D...</td>\n",
              "      <td>[LUXURIOUS &amp; APPEALING: Beautiful custom-made ...</td>\n",
              "      <td></td>\n",
              "      <td>1650</td>\n",
              "      <td>2125.980000</td>\n",
              "    </tr>\n",
              "    <tr>\n",
              "      <th>1</th>\n",
              "      <td>2673191</td>\n",
              "      <td>Marks &amp; Spencer Girls' Pyjama Sets T86_2561C_N...</td>\n",
              "      <td>[Harry Potter Hedwig Pyjamas (6-16 Yrs),100% c...</td>\n",
              "      <td></td>\n",
              "      <td>2755</td>\n",
              "      <td>393.700000</td>\n",
              "    </tr>\n",
              "    <tr>\n",
              "      <th>2</th>\n",
              "      <td>2765088</td>\n",
              "      <td>PRIKNIK Horn Red Electric Air Horn Compressor ...</td>\n",
              "      <td>[Loud Dual Tone Trumpet Horn, Compatible With ...</td>\n",
              "      <td>Specifications: Color: Red, Material: Aluminiu...</td>\n",
              "      <td>7537</td>\n",
              "      <td>748.031495</td>\n",
              "    </tr>\n",
              "    <tr>\n",
              "      <th>3</th>\n",
              "      <td>1594019</td>\n",
              "      <td>ALISHAH Women's Cotton Ankle Length Leggings C...</td>\n",
              "      <td>[Made By 95%cotton and 5% Lycra which gives yo...</td>\n",
              "      <td>AISHAH Women's Lycra Cotton Ankel Leggings. Br...</td>\n",
              "      <td>2996</td>\n",
              "      <td>787.401574</td>\n",
              "    </tr>\n",
              "    <tr>\n",
              "      <th>4</th>\n",
              "      <td>283658</td>\n",
              "      <td>The United Empire Loyalists: A Chronicle of th...</td>\n",
              "      <td></td>\n",
              "      <td></td>\n",
              "      <td>6112</td>\n",
              "      <td>598.424000</td>\n",
              "    </tr>\n",
              "  </tbody>\n",
              "</table>\n",
              "</div>\n",
              "      <button class=\"colab-df-convert\" onclick=\"convertToInteractive('df-914f9ac3-d199-4cf4-bf82-6bbebc72cbb2')\"\n",
              "              title=\"Convert this dataframe to an interactive table.\"\n",
              "              style=\"display:none;\">\n",
              "        \n",
              "  <svg xmlns=\"http://www.w3.org/2000/svg\" height=\"24px\"viewBox=\"0 0 24 24\"\n",
              "       width=\"24px\">\n",
              "    <path d=\"M0 0h24v24H0V0z\" fill=\"none\"/>\n",
              "    <path d=\"M18.56 5.44l.94 2.06.94-2.06 2.06-.94-2.06-.94-.94-2.06-.94 2.06-2.06.94zm-11 1L8.5 8.5l.94-2.06 2.06-.94-2.06-.94L8.5 2.5l-.94 2.06-2.06.94zm10 10l.94 2.06.94-2.06 2.06-.94-2.06-.94-.94-2.06-.94 2.06-2.06.94z\"/><path d=\"M17.41 7.96l-1.37-1.37c-.4-.4-.92-.59-1.43-.59-.52 0-1.04.2-1.43.59L10.3 9.45l-7.72 7.72c-.78.78-.78 2.05 0 2.83L4 21.41c.39.39.9.59 1.41.59.51 0 1.02-.2 1.41-.59l7.78-7.78 2.81-2.81c.8-.78.8-2.07 0-2.86zM5.41 20L4 18.59l7.72-7.72 1.47 1.35L5.41 20z\"/>\n",
              "  </svg>\n",
              "      </button>\n",
              "      \n",
              "  <style>\n",
              "    .colab-df-container {\n",
              "      display:flex;\n",
              "      flex-wrap:wrap;\n",
              "      gap: 12px;\n",
              "    }\n",
              "\n",
              "    .colab-df-convert {\n",
              "      background-color: #E8F0FE;\n",
              "      border: none;\n",
              "      border-radius: 50%;\n",
              "      cursor: pointer;\n",
              "      display: none;\n",
              "      fill: #1967D2;\n",
              "      height: 32px;\n",
              "      padding: 0 0 0 0;\n",
              "      width: 32px;\n",
              "    }\n",
              "\n",
              "    .colab-df-convert:hover {\n",
              "      background-color: #E2EBFA;\n",
              "      box-shadow: 0px 1px 2px rgba(60, 64, 67, 0.3), 0px 1px 3px 1px rgba(60, 64, 67, 0.15);\n",
              "      fill: #174EA6;\n",
              "    }\n",
              "\n",
              "    [theme=dark] .colab-df-convert {\n",
              "      background-color: #3B4455;\n",
              "      fill: #D2E3FC;\n",
              "    }\n",
              "\n",
              "    [theme=dark] .colab-df-convert:hover {\n",
              "      background-color: #434B5C;\n",
              "      box-shadow: 0px 1px 3px 1px rgba(0, 0, 0, 0.15);\n",
              "      filter: drop-shadow(0px 1px 2px rgba(0, 0, 0, 0.3));\n",
              "      fill: #FFFFFF;\n",
              "    }\n",
              "  </style>\n",
              "\n",
              "      <script>\n",
              "        const buttonEl =\n",
              "          document.querySelector('#df-914f9ac3-d199-4cf4-bf82-6bbebc72cbb2 button.colab-df-convert');\n",
              "        buttonEl.style.display =\n",
              "          google.colab.kernel.accessAllowed ? 'block' : 'none';\n",
              "\n",
              "        async function convertToInteractive(key) {\n",
              "          const element = document.querySelector('#df-914f9ac3-d199-4cf4-bf82-6bbebc72cbb2');\n",
              "          const dataTable =\n",
              "            await google.colab.kernel.invokeFunction('convertToInteractive',\n",
              "                                                     [key], {});\n",
              "          if (!dataTable) return;\n",
              "\n",
              "          const docLinkHtml = 'Like what you see? Visit the ' +\n",
              "            '<a target=\"_blank\" href=https://colab.research.google.com/notebooks/data_table.ipynb>data table notebook</a>'\n",
              "            + ' to learn more about interactive tables.';\n",
              "          element.innerHTML = '';\n",
              "          dataTable['output_type'] = 'display_data';\n",
              "          await google.colab.output.renderOutput(dataTable, element);\n",
              "          const docLink = document.createElement('div');\n",
              "          docLink.innerHTML = docLinkHtml;\n",
              "          element.appendChild(docLink);\n",
              "        }\n",
              "      </script>\n",
              "    </div>\n",
              "  </div>\n",
              "  "
            ],
            "text/plain": [
              "   PRODUCT_ID                                              TITLE  \\\n",
              "0     1925202  ArtzFolio Tulip Flowers Blackout Curtain for D...   \n",
              "1     2673191  Marks & Spencer Girls' Pyjama Sets T86_2561C_N...   \n",
              "2     2765088  PRIKNIK Horn Red Electric Air Horn Compressor ...   \n",
              "3     1594019  ALISHAH Women's Cotton Ankle Length Leggings C...   \n",
              "4      283658  The United Empire Loyalists: A Chronicle of th...   \n",
              "\n",
              "                                       BULLET_POINTS  \\\n",
              "0  [LUXURIOUS & APPEALING: Beautiful custom-made ...   \n",
              "1  [Harry Potter Hedwig Pyjamas (6-16 Yrs),100% c...   \n",
              "2  [Loud Dual Tone Trumpet Horn, Compatible With ...   \n",
              "3  [Made By 95%cotton and 5% Lycra which gives yo...   \n",
              "4                                                      \n",
              "\n",
              "                                         DESCRIPTION  PRODUCT_TYPE_ID  \\\n",
              "0                                                                1650   \n",
              "1                                                                2755   \n",
              "2  Specifications: Color: Red, Material: Aluminiu...             7537   \n",
              "3  AISHAH Women's Lycra Cotton Ankel Leggings. Br...             2996   \n",
              "4                                                                6112   \n",
              "\n",
              "   PRODUCT_LENGTH  \n",
              "0     2125.980000  \n",
              "1      393.700000  \n",
              "2      748.031495  \n",
              "3      787.401574  \n",
              "4      598.424000  "
            ]
          },
          "execution_count": 17,
          "metadata": {},
          "output_type": "execute_result"
        }
      ],
      "source": [
        "dataset.head()"
      ]
    },
    {
      "cell_type": "markdown",
      "metadata": {
        "id": "v7Tbgo2eI9a1"
      },
      "source": [
        "## Implemeting One Hot Encoding"
      ]
    },
    {
      "cell_type": "code",
      "execution_count": null,
      "metadata": {
        "colab": {
          "base_uri": "https://localhost:8080/"
        },
        "id": "zjcVEnPuaWOg",
        "outputId": "111a2253-0bf9-438a-df6e-2e913adb1c6b"
      },
      "outputs": [
        {
          "name": "stdout",
          "output_type": "stream",
          "text": [
            "Type of one_hot_columns is: <class 'scipy.sparse._csr.csr_matrix'>\n"
          ]
        }
      ],
      "source": [
        "from sklearn import preprocessing\n",
        "from sklearn.compose import ColumnTransformer\n",
        "\n",
        "# Here are the categorical features we are going to create one-hot encoded features for\n",
        "categorical_features = ['PRODUCT_TYPE_ID'] \n",
        "\n",
        "encoder = preprocessing.OneHotEncoder(handle_unknown='ignore')\n",
        "one_hot_features = encoder.fit_transform(dataset[categorical_features])\n",
        "one_hot_names = encoder.get_feature_names_out()\n",
        "\n",
        "print(\"Type of one_hot_columns is:\",type(one_hot_features))"
      ]
    },
    {
      "cell_type": "code",
      "execution_count": null,
      "metadata": {
        "id": "Lo-LoRC9fckw"
      },
      "outputs": [],
      "source": [
        "one_hot_test_features = encoder.fit_transform(test_data[categorical_features])\n",
        "one_hot_test_names = encoder.get_feature_names_out()"
      ]
    },
    {
      "cell_type": "code",
      "execution_count": null,
      "metadata": {
        "colab": {
          "base_uri": "https://localhost:8080/",
          "height": 299
        },
        "id": "2tCiBAWjaiMY",
        "outputId": "afa259d1-c762-4e17-9cde-8640e827b280"
      },
      "outputs": [
        {
          "data": {
            "text/html": [
              "\n",
              "  <div id=\"df-751a1e8b-08c8-4542-9c9d-a8a71f8e9cb5\">\n",
              "    <div class=\"colab-df-container\">\n",
              "      <div>\n",
              "<style scoped>\n",
              "    .dataframe tbody tr th:only-of-type {\n",
              "        vertical-align: middle;\n",
              "    }\n",
              "\n",
              "    .dataframe tbody tr th {\n",
              "        vertical-align: top;\n",
              "    }\n",
              "\n",
              "    .dataframe thead th {\n",
              "        text-align: right;\n",
              "    }\n",
              "</style>\n",
              "<table border=\"1\" class=\"dataframe\">\n",
              "  <thead>\n",
              "    <tr style=\"text-align: right;\">\n",
              "      <th></th>\n",
              "      <th>PRODUCT_TYPE_ID_0</th>\n",
              "      <th>PRODUCT_TYPE_ID_1</th>\n",
              "      <th>PRODUCT_TYPE_ID_2</th>\n",
              "      <th>PRODUCT_TYPE_ID_3</th>\n",
              "      <th>PRODUCT_TYPE_ID_4</th>\n",
              "      <th>PRODUCT_TYPE_ID_5</th>\n",
              "      <th>PRODUCT_TYPE_ID_6</th>\n",
              "      <th>PRODUCT_TYPE_ID_7</th>\n",
              "      <th>PRODUCT_TYPE_ID_8</th>\n",
              "      <th>PRODUCT_TYPE_ID_9</th>\n",
              "      <th>...</th>\n",
              "      <th>PRODUCT_TYPE_ID_13411</th>\n",
              "      <th>PRODUCT_TYPE_ID_13412</th>\n",
              "      <th>PRODUCT_TYPE_ID_13413</th>\n",
              "      <th>PRODUCT_TYPE_ID_13414</th>\n",
              "      <th>PRODUCT_TYPE_ID_13415</th>\n",
              "      <th>PRODUCT_TYPE_ID_13416</th>\n",
              "      <th>PRODUCT_TYPE_ID_13417</th>\n",
              "      <th>PRODUCT_TYPE_ID_13418</th>\n",
              "      <th>PRODUCT_TYPE_ID_13419</th>\n",
              "      <th>PRODUCT_TYPE_ID_13420</th>\n",
              "    </tr>\n",
              "  </thead>\n",
              "  <tbody>\n",
              "    <tr>\n",
              "      <th>0</th>\n",
              "      <td>0.0</td>\n",
              "      <td>0.0</td>\n",
              "      <td>0.0</td>\n",
              "      <td>0.0</td>\n",
              "      <td>0.0</td>\n",
              "      <td>0.0</td>\n",
              "      <td>0.0</td>\n",
              "      <td>0.0</td>\n",
              "      <td>0.0</td>\n",
              "      <td>0.0</td>\n",
              "      <td>...</td>\n",
              "      <td>0.0</td>\n",
              "      <td>0.0</td>\n",
              "      <td>0.0</td>\n",
              "      <td>0.0</td>\n",
              "      <td>0.0</td>\n",
              "      <td>0.0</td>\n",
              "      <td>0.0</td>\n",
              "      <td>0.0</td>\n",
              "      <td>0.0</td>\n",
              "      <td>0.0</td>\n",
              "    </tr>\n",
              "    <tr>\n",
              "      <th>1</th>\n",
              "      <td>0.0</td>\n",
              "      <td>0.0</td>\n",
              "      <td>0.0</td>\n",
              "      <td>0.0</td>\n",
              "      <td>0.0</td>\n",
              "      <td>0.0</td>\n",
              "      <td>0.0</td>\n",
              "      <td>0.0</td>\n",
              "      <td>0.0</td>\n",
              "      <td>0.0</td>\n",
              "      <td>...</td>\n",
              "      <td>0.0</td>\n",
              "      <td>0.0</td>\n",
              "      <td>0.0</td>\n",
              "      <td>0.0</td>\n",
              "      <td>0.0</td>\n",
              "      <td>0.0</td>\n",
              "      <td>0.0</td>\n",
              "      <td>0.0</td>\n",
              "      <td>0.0</td>\n",
              "      <td>0.0</td>\n",
              "    </tr>\n",
              "    <tr>\n",
              "      <th>2</th>\n",
              "      <td>0.0</td>\n",
              "      <td>0.0</td>\n",
              "      <td>0.0</td>\n",
              "      <td>0.0</td>\n",
              "      <td>0.0</td>\n",
              "      <td>0.0</td>\n",
              "      <td>0.0</td>\n",
              "      <td>0.0</td>\n",
              "      <td>0.0</td>\n",
              "      <td>0.0</td>\n",
              "      <td>...</td>\n",
              "      <td>0.0</td>\n",
              "      <td>0.0</td>\n",
              "      <td>0.0</td>\n",
              "      <td>0.0</td>\n",
              "      <td>0.0</td>\n",
              "      <td>0.0</td>\n",
              "      <td>0.0</td>\n",
              "      <td>0.0</td>\n",
              "      <td>0.0</td>\n",
              "      <td>0.0</td>\n",
              "    </tr>\n",
              "    <tr>\n",
              "      <th>3</th>\n",
              "      <td>0.0</td>\n",
              "      <td>0.0</td>\n",
              "      <td>0.0</td>\n",
              "      <td>0.0</td>\n",
              "      <td>0.0</td>\n",
              "      <td>0.0</td>\n",
              "      <td>0.0</td>\n",
              "      <td>0.0</td>\n",
              "      <td>0.0</td>\n",
              "      <td>0.0</td>\n",
              "      <td>...</td>\n",
              "      <td>0.0</td>\n",
              "      <td>0.0</td>\n",
              "      <td>0.0</td>\n",
              "      <td>0.0</td>\n",
              "      <td>0.0</td>\n",
              "      <td>0.0</td>\n",
              "      <td>0.0</td>\n",
              "      <td>0.0</td>\n",
              "      <td>0.0</td>\n",
              "      <td>0.0</td>\n",
              "    </tr>\n",
              "    <tr>\n",
              "      <th>4</th>\n",
              "      <td>0.0</td>\n",
              "      <td>0.0</td>\n",
              "      <td>0.0</td>\n",
              "      <td>0.0</td>\n",
              "      <td>0.0</td>\n",
              "      <td>0.0</td>\n",
              "      <td>0.0</td>\n",
              "      <td>0.0</td>\n",
              "      <td>0.0</td>\n",
              "      <td>0.0</td>\n",
              "      <td>...</td>\n",
              "      <td>0.0</td>\n",
              "      <td>0.0</td>\n",
              "      <td>0.0</td>\n",
              "      <td>0.0</td>\n",
              "      <td>0.0</td>\n",
              "      <td>0.0</td>\n",
              "      <td>0.0</td>\n",
              "      <td>0.0</td>\n",
              "      <td>0.0</td>\n",
              "      <td>0.0</td>\n",
              "    </tr>\n",
              "  </tbody>\n",
              "</table>\n",
              "<p>5 rows × 12905 columns</p>\n",
              "</div>\n",
              "      <button class=\"colab-df-convert\" onclick=\"convertToInteractive('df-751a1e8b-08c8-4542-9c9d-a8a71f8e9cb5')\"\n",
              "              title=\"Convert this dataframe to an interactive table.\"\n",
              "              style=\"display:none;\">\n",
              "        \n",
              "  <svg xmlns=\"http://www.w3.org/2000/svg\" height=\"24px\"viewBox=\"0 0 24 24\"\n",
              "       width=\"24px\">\n",
              "    <path d=\"M0 0h24v24H0V0z\" fill=\"none\"/>\n",
              "    <path d=\"M18.56 5.44l.94 2.06.94-2.06 2.06-.94-2.06-.94-.94-2.06-.94 2.06-2.06.94zm-11 1L8.5 8.5l.94-2.06 2.06-.94-2.06-.94L8.5 2.5l-.94 2.06-2.06.94zm10 10l.94 2.06.94-2.06 2.06-.94-2.06-.94-.94-2.06-.94 2.06-2.06.94z\"/><path d=\"M17.41 7.96l-1.37-1.37c-.4-.4-.92-.59-1.43-.59-.52 0-1.04.2-1.43.59L10.3 9.45l-7.72 7.72c-.78.78-.78 2.05 0 2.83L4 21.41c.39.39.9.59 1.41.59.51 0 1.02-.2 1.41-.59l7.78-7.78 2.81-2.81c.8-.78.8-2.07 0-2.86zM5.41 20L4 18.59l7.72-7.72 1.47 1.35L5.41 20z\"/>\n",
              "  </svg>\n",
              "      </button>\n",
              "      \n",
              "  <style>\n",
              "    .colab-df-container {\n",
              "      display:flex;\n",
              "      flex-wrap:wrap;\n",
              "      gap: 12px;\n",
              "    }\n",
              "\n",
              "    .colab-df-convert {\n",
              "      background-color: #E8F0FE;\n",
              "      border: none;\n",
              "      border-radius: 50%;\n",
              "      cursor: pointer;\n",
              "      display: none;\n",
              "      fill: #1967D2;\n",
              "      height: 32px;\n",
              "      padding: 0 0 0 0;\n",
              "      width: 32px;\n",
              "    }\n",
              "\n",
              "    .colab-df-convert:hover {\n",
              "      background-color: #E2EBFA;\n",
              "      box-shadow: 0px 1px 2px rgba(60, 64, 67, 0.3), 0px 1px 3px 1px rgba(60, 64, 67, 0.15);\n",
              "      fill: #174EA6;\n",
              "    }\n",
              "\n",
              "    [theme=dark] .colab-df-convert {\n",
              "      background-color: #3B4455;\n",
              "      fill: #D2E3FC;\n",
              "    }\n",
              "\n",
              "    [theme=dark] .colab-df-convert:hover {\n",
              "      background-color: #434B5C;\n",
              "      box-shadow: 0px 1px 3px 1px rgba(0, 0, 0, 0.15);\n",
              "      filter: drop-shadow(0px 1px 2px rgba(0, 0, 0, 0.3));\n",
              "      fill: #FFFFFF;\n",
              "    }\n",
              "  </style>\n",
              "\n",
              "      <script>\n",
              "        const buttonEl =\n",
              "          document.querySelector('#df-751a1e8b-08c8-4542-9c9d-a8a71f8e9cb5 button.colab-df-convert');\n",
              "        buttonEl.style.display =\n",
              "          google.colab.kernel.accessAllowed ? 'block' : 'none';\n",
              "\n",
              "        async function convertToInteractive(key) {\n",
              "          const element = document.querySelector('#df-751a1e8b-08c8-4542-9c9d-a8a71f8e9cb5');\n",
              "          const dataTable =\n",
              "            await google.colab.kernel.invokeFunction('convertToInteractive',\n",
              "                                                     [key], {});\n",
              "          if (!dataTable) return;\n",
              "\n",
              "          const docLinkHtml = 'Like what you see? Visit the ' +\n",
              "            '<a target=\"_blank\" href=https://colab.research.google.com/notebooks/data_table.ipynb>data table notebook</a>'\n",
              "            + ' to learn more about interactive tables.';\n",
              "          element.innerHTML = '';\n",
              "          dataTable['output_type'] = 'display_data';\n",
              "          await google.colab.output.renderOutput(dataTable, element);\n",
              "          const docLink = document.createElement('div');\n",
              "          docLink.innerHTML = docLinkHtml;\n",
              "          element.appendChild(docLink);\n",
              "        }\n",
              "      </script>\n",
              "    </div>\n",
              "  </div>\n",
              "  "
            ],
            "text/plain": [
              "   PRODUCT_TYPE_ID_0  PRODUCT_TYPE_ID_1  PRODUCT_TYPE_ID_2  PRODUCT_TYPE_ID_3  \\\n",
              "0                0.0                0.0                0.0                0.0   \n",
              "1                0.0                0.0                0.0                0.0   \n",
              "2                0.0                0.0                0.0                0.0   \n",
              "3                0.0                0.0                0.0                0.0   \n",
              "4                0.0                0.0                0.0                0.0   \n",
              "\n",
              "   PRODUCT_TYPE_ID_4  PRODUCT_TYPE_ID_5  PRODUCT_TYPE_ID_6  PRODUCT_TYPE_ID_7  \\\n",
              "0                0.0                0.0                0.0                0.0   \n",
              "1                0.0                0.0                0.0                0.0   \n",
              "2                0.0                0.0                0.0                0.0   \n",
              "3                0.0                0.0                0.0                0.0   \n",
              "4                0.0                0.0                0.0                0.0   \n",
              "\n",
              "   PRODUCT_TYPE_ID_8  PRODUCT_TYPE_ID_9  ...  PRODUCT_TYPE_ID_13411  \\\n",
              "0                0.0                0.0  ...                    0.0   \n",
              "1                0.0                0.0  ...                    0.0   \n",
              "2                0.0                0.0  ...                    0.0   \n",
              "3                0.0                0.0  ...                    0.0   \n",
              "4                0.0                0.0  ...                    0.0   \n",
              "\n",
              "   PRODUCT_TYPE_ID_13412  PRODUCT_TYPE_ID_13413  PRODUCT_TYPE_ID_13414  \\\n",
              "0                    0.0                    0.0                    0.0   \n",
              "1                    0.0                    0.0                    0.0   \n",
              "2                    0.0                    0.0                    0.0   \n",
              "3                    0.0                    0.0                    0.0   \n",
              "4                    0.0                    0.0                    0.0   \n",
              "\n",
              "   PRODUCT_TYPE_ID_13415  PRODUCT_TYPE_ID_13416  PRODUCT_TYPE_ID_13417  \\\n",
              "0                    0.0                    0.0                    0.0   \n",
              "1                    0.0                    0.0                    0.0   \n",
              "2                    0.0                    0.0                    0.0   \n",
              "3                    0.0                    0.0                    0.0   \n",
              "4                    0.0                    0.0                    0.0   \n",
              "\n",
              "   PRODUCT_TYPE_ID_13418  PRODUCT_TYPE_ID_13419  PRODUCT_TYPE_ID_13420  \n",
              "0                    0.0                    0.0                    0.0  \n",
              "1                    0.0                    0.0                    0.0  \n",
              "2                    0.0                    0.0                    0.0  \n",
              "3                    0.0                    0.0                    0.0  \n",
              "4                    0.0                    0.0                    0.0  \n",
              "\n",
              "[5 rows x 12905 columns]"
            ]
          },
          "execution_count": 14,
          "metadata": {},
          "output_type": "execute_result"
        }
      ],
      "source": [
        "one_hot_df = pd.DataFrame.sparse.from_spmatrix(one_hot_features)\n",
        "one_hot_df.columns = one_hot_names # Now we can see the actual meaning of the one-hot feature in the DataFrame\n",
        "one_hot_df.head()"
      ]
    },
    {
      "cell_type": "code",
      "execution_count": null,
      "metadata": {
        "colab": {
          "base_uri": "https://localhost:8080/",
          "height": 299
        },
        "id": "KkewU8zHfkSs",
        "outputId": "8a651f92-1275-44ac-81ae-573ed4e9806a"
      },
      "outputs": [
        {
          "data": {
            "text/html": [
              "\n",
              "  <div id=\"df-c3575422-5fb1-4e5d-ac22-050f7009b1b8\">\n",
              "    <div class=\"colab-df-container\">\n",
              "      <div>\n",
              "<style scoped>\n",
              "    .dataframe tbody tr th:only-of-type {\n",
              "        vertical-align: middle;\n",
              "    }\n",
              "\n",
              "    .dataframe tbody tr th {\n",
              "        vertical-align: top;\n",
              "    }\n",
              "\n",
              "    .dataframe thead th {\n",
              "        text-align: right;\n",
              "    }\n",
              "</style>\n",
              "<table border=\"1\" class=\"dataframe\">\n",
              "  <thead>\n",
              "    <tr style=\"text-align: right;\">\n",
              "      <th></th>\n",
              "      <th>PRODUCT_TYPE_ID_0</th>\n",
              "      <th>PRODUCT_TYPE_ID_1</th>\n",
              "      <th>PRODUCT_TYPE_ID_2</th>\n",
              "      <th>PRODUCT_TYPE_ID_3</th>\n",
              "      <th>PRODUCT_TYPE_ID_4</th>\n",
              "      <th>PRODUCT_TYPE_ID_5</th>\n",
              "      <th>PRODUCT_TYPE_ID_6</th>\n",
              "      <th>PRODUCT_TYPE_ID_7</th>\n",
              "      <th>PRODUCT_TYPE_ID_8</th>\n",
              "      <th>PRODUCT_TYPE_ID_9</th>\n",
              "      <th>...</th>\n",
              "      <th>PRODUCT_TYPE_ID_13408</th>\n",
              "      <th>PRODUCT_TYPE_ID_13410</th>\n",
              "      <th>PRODUCT_TYPE_ID_13411</th>\n",
              "      <th>PRODUCT_TYPE_ID_13413</th>\n",
              "      <th>PRODUCT_TYPE_ID_13414</th>\n",
              "      <th>PRODUCT_TYPE_ID_13415</th>\n",
              "      <th>PRODUCT_TYPE_ID_13416</th>\n",
              "      <th>PRODUCT_TYPE_ID_13417</th>\n",
              "      <th>PRODUCT_TYPE_ID_13419</th>\n",
              "      <th>PRODUCT_TYPE_ID_13420</th>\n",
              "    </tr>\n",
              "  </thead>\n",
              "  <tbody>\n",
              "    <tr>\n",
              "      <th>0</th>\n",
              "      <td>0.0</td>\n",
              "      <td>0.0</td>\n",
              "      <td>0.0</td>\n",
              "      <td>0.0</td>\n",
              "      <td>0.0</td>\n",
              "      <td>0.0</td>\n",
              "      <td>0.0</td>\n",
              "      <td>0.0</td>\n",
              "      <td>0.0</td>\n",
              "      <td>0.0</td>\n",
              "      <td>...</td>\n",
              "      <td>0.0</td>\n",
              "      <td>0.0</td>\n",
              "      <td>0.0</td>\n",
              "      <td>0.0</td>\n",
              "      <td>0.0</td>\n",
              "      <td>0.0</td>\n",
              "      <td>0.0</td>\n",
              "      <td>0.0</td>\n",
              "      <td>0.0</td>\n",
              "      <td>0.0</td>\n",
              "    </tr>\n",
              "    <tr>\n",
              "      <th>1</th>\n",
              "      <td>0.0</td>\n",
              "      <td>0.0</td>\n",
              "      <td>0.0</td>\n",
              "      <td>0.0</td>\n",
              "      <td>0.0</td>\n",
              "      <td>0.0</td>\n",
              "      <td>0.0</td>\n",
              "      <td>0.0</td>\n",
              "      <td>0.0</td>\n",
              "      <td>0.0</td>\n",
              "      <td>...</td>\n",
              "      <td>0.0</td>\n",
              "      <td>0.0</td>\n",
              "      <td>0.0</td>\n",
              "      <td>0.0</td>\n",
              "      <td>0.0</td>\n",
              "      <td>0.0</td>\n",
              "      <td>0.0</td>\n",
              "      <td>0.0</td>\n",
              "      <td>0.0</td>\n",
              "      <td>0.0</td>\n",
              "    </tr>\n",
              "    <tr>\n",
              "      <th>2</th>\n",
              "      <td>0.0</td>\n",
              "      <td>0.0</td>\n",
              "      <td>0.0</td>\n",
              "      <td>0.0</td>\n",
              "      <td>0.0</td>\n",
              "      <td>0.0</td>\n",
              "      <td>0.0</td>\n",
              "      <td>0.0</td>\n",
              "      <td>0.0</td>\n",
              "      <td>0.0</td>\n",
              "      <td>...</td>\n",
              "      <td>0.0</td>\n",
              "      <td>0.0</td>\n",
              "      <td>0.0</td>\n",
              "      <td>0.0</td>\n",
              "      <td>0.0</td>\n",
              "      <td>0.0</td>\n",
              "      <td>0.0</td>\n",
              "      <td>0.0</td>\n",
              "      <td>0.0</td>\n",
              "      <td>0.0</td>\n",
              "    </tr>\n",
              "    <tr>\n",
              "      <th>3</th>\n",
              "      <td>0.0</td>\n",
              "      <td>0.0</td>\n",
              "      <td>0.0</td>\n",
              "      <td>0.0</td>\n",
              "      <td>0.0</td>\n",
              "      <td>0.0</td>\n",
              "      <td>0.0</td>\n",
              "      <td>0.0</td>\n",
              "      <td>0.0</td>\n",
              "      <td>0.0</td>\n",
              "      <td>...</td>\n",
              "      <td>0.0</td>\n",
              "      <td>0.0</td>\n",
              "      <td>0.0</td>\n",
              "      <td>0.0</td>\n",
              "      <td>0.0</td>\n",
              "      <td>0.0</td>\n",
              "      <td>0.0</td>\n",
              "      <td>0.0</td>\n",
              "      <td>0.0</td>\n",
              "      <td>0.0</td>\n",
              "    </tr>\n",
              "    <tr>\n",
              "      <th>4</th>\n",
              "      <td>0.0</td>\n",
              "      <td>0.0</td>\n",
              "      <td>0.0</td>\n",
              "      <td>0.0</td>\n",
              "      <td>0.0</td>\n",
              "      <td>0.0</td>\n",
              "      <td>0.0</td>\n",
              "      <td>0.0</td>\n",
              "      <td>0.0</td>\n",
              "      <td>0.0</td>\n",
              "      <td>...</td>\n",
              "      <td>0.0</td>\n",
              "      <td>0.0</td>\n",
              "      <td>0.0</td>\n",
              "      <td>0.0</td>\n",
              "      <td>0.0</td>\n",
              "      <td>0.0</td>\n",
              "      <td>0.0</td>\n",
              "      <td>0.0</td>\n",
              "      <td>0.0</td>\n",
              "      <td>0.0</td>\n",
              "    </tr>\n",
              "  </tbody>\n",
              "</table>\n",
              "<p>5 rows × 10565 columns</p>\n",
              "</div>\n",
              "      <button class=\"colab-df-convert\" onclick=\"convertToInteractive('df-c3575422-5fb1-4e5d-ac22-050f7009b1b8')\"\n",
              "              title=\"Convert this dataframe to an interactive table.\"\n",
              "              style=\"display:none;\">\n",
              "        \n",
              "  <svg xmlns=\"http://www.w3.org/2000/svg\" height=\"24px\"viewBox=\"0 0 24 24\"\n",
              "       width=\"24px\">\n",
              "    <path d=\"M0 0h24v24H0V0z\" fill=\"none\"/>\n",
              "    <path d=\"M18.56 5.44l.94 2.06.94-2.06 2.06-.94-2.06-.94-.94-2.06-.94 2.06-2.06.94zm-11 1L8.5 8.5l.94-2.06 2.06-.94-2.06-.94L8.5 2.5l-.94 2.06-2.06.94zm10 10l.94 2.06.94-2.06 2.06-.94-2.06-.94-.94-2.06-.94 2.06-2.06.94z\"/><path d=\"M17.41 7.96l-1.37-1.37c-.4-.4-.92-.59-1.43-.59-.52 0-1.04.2-1.43.59L10.3 9.45l-7.72 7.72c-.78.78-.78 2.05 0 2.83L4 21.41c.39.39.9.59 1.41.59.51 0 1.02-.2 1.41-.59l7.78-7.78 2.81-2.81c.8-.78.8-2.07 0-2.86zM5.41 20L4 18.59l7.72-7.72 1.47 1.35L5.41 20z\"/>\n",
              "  </svg>\n",
              "      </button>\n",
              "      \n",
              "  <style>\n",
              "    .colab-df-container {\n",
              "      display:flex;\n",
              "      flex-wrap:wrap;\n",
              "      gap: 12px;\n",
              "    }\n",
              "\n",
              "    .colab-df-convert {\n",
              "      background-color: #E8F0FE;\n",
              "      border: none;\n",
              "      border-radius: 50%;\n",
              "      cursor: pointer;\n",
              "      display: none;\n",
              "      fill: #1967D2;\n",
              "      height: 32px;\n",
              "      padding: 0 0 0 0;\n",
              "      width: 32px;\n",
              "    }\n",
              "\n",
              "    .colab-df-convert:hover {\n",
              "      background-color: #E2EBFA;\n",
              "      box-shadow: 0px 1px 2px rgba(60, 64, 67, 0.3), 0px 1px 3px 1px rgba(60, 64, 67, 0.15);\n",
              "      fill: #174EA6;\n",
              "    }\n",
              "\n",
              "    [theme=dark] .colab-df-convert {\n",
              "      background-color: #3B4455;\n",
              "      fill: #D2E3FC;\n",
              "    }\n",
              "\n",
              "    [theme=dark] .colab-df-convert:hover {\n",
              "      background-color: #434B5C;\n",
              "      box-shadow: 0px 1px 3px 1px rgba(0, 0, 0, 0.15);\n",
              "      filter: drop-shadow(0px 1px 2px rgba(0, 0, 0, 0.3));\n",
              "      fill: #FFFFFF;\n",
              "    }\n",
              "  </style>\n",
              "\n",
              "      <script>\n",
              "        const buttonEl =\n",
              "          document.querySelector('#df-c3575422-5fb1-4e5d-ac22-050f7009b1b8 button.colab-df-convert');\n",
              "        buttonEl.style.display =\n",
              "          google.colab.kernel.accessAllowed ? 'block' : 'none';\n",
              "\n",
              "        async function convertToInteractive(key) {\n",
              "          const element = document.querySelector('#df-c3575422-5fb1-4e5d-ac22-050f7009b1b8');\n",
              "          const dataTable =\n",
              "            await google.colab.kernel.invokeFunction('convertToInteractive',\n",
              "                                                     [key], {});\n",
              "          if (!dataTable) return;\n",
              "\n",
              "          const docLinkHtml = 'Like what you see? Visit the ' +\n",
              "            '<a target=\"_blank\" href=https://colab.research.google.com/notebooks/data_table.ipynb>data table notebook</a>'\n",
              "            + ' to learn more about interactive tables.';\n",
              "          element.innerHTML = '';\n",
              "          dataTable['output_type'] = 'display_data';\n",
              "          await google.colab.output.renderOutput(dataTable, element);\n",
              "          const docLink = document.createElement('div');\n",
              "          docLink.innerHTML = docLinkHtml;\n",
              "          element.appendChild(docLink);\n",
              "        }\n",
              "      </script>\n",
              "    </div>\n",
              "  </div>\n",
              "  "
            ],
            "text/plain": [
              "   PRODUCT_TYPE_ID_0  PRODUCT_TYPE_ID_1  PRODUCT_TYPE_ID_2  PRODUCT_TYPE_ID_3  \\\n",
              "0                0.0                0.0                0.0                0.0   \n",
              "1                0.0                0.0                0.0                0.0   \n",
              "2                0.0                0.0                0.0                0.0   \n",
              "3                0.0                0.0                0.0                0.0   \n",
              "4                0.0                0.0                0.0                0.0   \n",
              "\n",
              "   PRODUCT_TYPE_ID_4  PRODUCT_TYPE_ID_5  PRODUCT_TYPE_ID_6  PRODUCT_TYPE_ID_7  \\\n",
              "0                0.0                0.0                0.0                0.0   \n",
              "1                0.0                0.0                0.0                0.0   \n",
              "2                0.0                0.0                0.0                0.0   \n",
              "3                0.0                0.0                0.0                0.0   \n",
              "4                0.0                0.0                0.0                0.0   \n",
              "\n",
              "   PRODUCT_TYPE_ID_8  PRODUCT_TYPE_ID_9  ...  PRODUCT_TYPE_ID_13408  \\\n",
              "0                0.0                0.0  ...                    0.0   \n",
              "1                0.0                0.0  ...                    0.0   \n",
              "2                0.0                0.0  ...                    0.0   \n",
              "3                0.0                0.0  ...                    0.0   \n",
              "4                0.0                0.0  ...                    0.0   \n",
              "\n",
              "   PRODUCT_TYPE_ID_13410  PRODUCT_TYPE_ID_13411  PRODUCT_TYPE_ID_13413  \\\n",
              "0                    0.0                    0.0                    0.0   \n",
              "1                    0.0                    0.0                    0.0   \n",
              "2                    0.0                    0.0                    0.0   \n",
              "3                    0.0                    0.0                    0.0   \n",
              "4                    0.0                    0.0                    0.0   \n",
              "\n",
              "   PRODUCT_TYPE_ID_13414  PRODUCT_TYPE_ID_13415  PRODUCT_TYPE_ID_13416  \\\n",
              "0                    0.0                    0.0                    0.0   \n",
              "1                    0.0                    0.0                    0.0   \n",
              "2                    0.0                    0.0                    0.0   \n",
              "3                    0.0                    0.0                    0.0   \n",
              "4                    0.0                    0.0                    0.0   \n",
              "\n",
              "   PRODUCT_TYPE_ID_13417  PRODUCT_TYPE_ID_13419  PRODUCT_TYPE_ID_13420  \n",
              "0                    0.0                    0.0                    0.0  \n",
              "1                    0.0                    0.0                    0.0  \n",
              "2                    0.0                    0.0                    0.0  \n",
              "3                    0.0                    0.0                    0.0  \n",
              "4                    0.0                    0.0                    0.0  \n",
              "\n",
              "[5 rows x 10565 columns]"
            ]
          },
          "execution_count": 15,
          "metadata": {},
          "output_type": "execute_result"
        }
      ],
      "source": [
        "one_hot_test_df = pd.DataFrame.sparse.from_spmatrix(one_hot_test_features)\n",
        "one_hot_test_df.columns = one_hot_test_names # Now we can see the actual meaning of the one-hot feature in the DataFrame\n",
        "one_hot_test_df.head()"
      ]
    },
    {
      "cell_type": "code",
      "execution_count": null,
      "metadata": {
        "id": "xDTMNrfNS7pO"
      },
      "outputs": [],
      "source": [
        "# Transform the following columns by taking log(1+x)\n",
        "transform_cols = [\"PRODUCT_ID\",\"PRODUCT_LENGTH\"]\n",
        "dataset = dataset.copy()\n",
        "for col in transform_cols:\n",
        "    col_log1p = col + '_log1p'\n",
        "    dataset.loc[:, col_log1p] = dataset.loc[:,col].apply(math.log1p)"
      ]
    },
    {
      "cell_type": "code",
      "execution_count": null,
      "metadata": {
        "id": "rbS-CyTBfuxU"
      },
      "outputs": [],
      "source": [
        "# Transform the following columns by taking log(1+x)\n",
        "transform_cols = [\"PRODUCT_ID\"]\n",
        "test_data = test_data.copy()\n",
        "for col in transform_cols:\n",
        "    col_log1p = col + '_log1p'\n",
        "    test_data.loc[:, col_log1p] = test_data.loc[:,col].apply(math.log1p)"
      ]
    },
    {
      "cell_type": "code",
      "execution_count": null,
      "metadata": {
        "colab": {
          "base_uri": "https://localhost:8080/",
          "height": 337
        },
        "id": "cXmD7H2LgD8d",
        "outputId": "4d427e93-c88b-4ed2-de81-cb4e044c3b77"
      },
      "outputs": [
        {
          "data": {
            "text/html": [
              "\n",
              "  <div id=\"df-89d0dd87-5178-4d46-b7e1-a40f9e74c5eb\">\n",
              "    <div class=\"colab-df-container\">\n",
              "      <div>\n",
              "<style scoped>\n",
              "    .dataframe tbody tr th:only-of-type {\n",
              "        vertical-align: middle;\n",
              "    }\n",
              "\n",
              "    .dataframe tbody tr th {\n",
              "        vertical-align: top;\n",
              "    }\n",
              "\n",
              "    .dataframe thead th {\n",
              "        text-align: right;\n",
              "    }\n",
              "</style>\n",
              "<table border=\"1\" class=\"dataframe\">\n",
              "  <thead>\n",
              "    <tr style=\"text-align: right;\">\n",
              "      <th></th>\n",
              "      <th>PRODUCT_ID</th>\n",
              "      <th>TITLE</th>\n",
              "      <th>BULLET_POINTS</th>\n",
              "      <th>DESCRIPTION</th>\n",
              "      <th>PRODUCT_TYPE_ID</th>\n",
              "      <th>PRODUCT_ID_log1p</th>\n",
              "    </tr>\n",
              "  </thead>\n",
              "  <tbody>\n",
              "    <tr>\n",
              "      <th>0</th>\n",
              "      <td>604373</td>\n",
              "      <td>Manuel d'Héliogravure Et de Photogravure En Re...</td>\n",
              "      <td></td>\n",
              "      <td></td>\n",
              "      <td>6142</td>\n",
              "      <td>13.311948</td>\n",
              "    </tr>\n",
              "    <tr>\n",
              "      <th>1</th>\n",
              "      <td>1729783</td>\n",
              "      <td>DCGARING Microfiber Throw Blanket Warm Fuzzy P...</td>\n",
              "      <td>[QUALITY GUARANTEED: Luxury cozy plush polyest...</td>\n",
              "      <td>&lt;b&gt;DCGARING Throw Blanket&lt;/b&gt;&lt;br&gt;&lt;br&gt; &lt;b&gt;Size ...</td>\n",
              "      <td>1622</td>\n",
              "      <td>14.363507</td>\n",
              "    </tr>\n",
              "    <tr>\n",
              "      <th>2</th>\n",
              "      <td>1871949</td>\n",
              "      <td>I-Match Auto Parts Front License Plate Bracket...</td>\n",
              "      <td>[Front License Plate Bracket Made Of Plastic,D...</td>\n",
              "      <td>Replacement for The Following Vehicles:2020 LE...</td>\n",
              "      <td>7540</td>\n",
              "      <td>14.442491</td>\n",
              "    </tr>\n",
              "    <tr>\n",
              "      <th>3</th>\n",
              "      <td>1107571</td>\n",
              "      <td>PinMart Gold Plated Excellence in Service 1 Ye...</td>\n",
              "      <td>[Available as a single item or bulk packed. Se...</td>\n",
              "      <td>Our Excellence in Service Lapel Pins feature a...</td>\n",
              "      <td>12442</td>\n",
              "      <td>13.917681</td>\n",
              "    </tr>\n",
              "    <tr>\n",
              "      <th>4</th>\n",
              "      <td>624253</td>\n",
              "      <td>Visual Mathematics, Illustrated by the TI-92 a...</td>\n",
              "      <td></td>\n",
              "      <td></td>\n",
              "      <td>6318</td>\n",
              "      <td>13.344313</td>\n",
              "    </tr>\n",
              "  </tbody>\n",
              "</table>\n",
              "</div>\n",
              "      <button class=\"colab-df-convert\" onclick=\"convertToInteractive('df-89d0dd87-5178-4d46-b7e1-a40f9e74c5eb')\"\n",
              "              title=\"Convert this dataframe to an interactive table.\"\n",
              "              style=\"display:none;\">\n",
              "        \n",
              "  <svg xmlns=\"http://www.w3.org/2000/svg\" height=\"24px\"viewBox=\"0 0 24 24\"\n",
              "       width=\"24px\">\n",
              "    <path d=\"M0 0h24v24H0V0z\" fill=\"none\"/>\n",
              "    <path d=\"M18.56 5.44l.94 2.06.94-2.06 2.06-.94-2.06-.94-.94-2.06-.94 2.06-2.06.94zm-11 1L8.5 8.5l.94-2.06 2.06-.94-2.06-.94L8.5 2.5l-.94 2.06-2.06.94zm10 10l.94 2.06.94-2.06 2.06-.94-2.06-.94-.94-2.06-.94 2.06-2.06.94z\"/><path d=\"M17.41 7.96l-1.37-1.37c-.4-.4-.92-.59-1.43-.59-.52 0-1.04.2-1.43.59L10.3 9.45l-7.72 7.72c-.78.78-.78 2.05 0 2.83L4 21.41c.39.39.9.59 1.41.59.51 0 1.02-.2 1.41-.59l7.78-7.78 2.81-2.81c.8-.78.8-2.07 0-2.86zM5.41 20L4 18.59l7.72-7.72 1.47 1.35L5.41 20z\"/>\n",
              "  </svg>\n",
              "      </button>\n",
              "      \n",
              "  <style>\n",
              "    .colab-df-container {\n",
              "      display:flex;\n",
              "      flex-wrap:wrap;\n",
              "      gap: 12px;\n",
              "    }\n",
              "\n",
              "    .colab-df-convert {\n",
              "      background-color: #E8F0FE;\n",
              "      border: none;\n",
              "      border-radius: 50%;\n",
              "      cursor: pointer;\n",
              "      display: none;\n",
              "      fill: #1967D2;\n",
              "      height: 32px;\n",
              "      padding: 0 0 0 0;\n",
              "      width: 32px;\n",
              "    }\n",
              "\n",
              "    .colab-df-convert:hover {\n",
              "      background-color: #E2EBFA;\n",
              "      box-shadow: 0px 1px 2px rgba(60, 64, 67, 0.3), 0px 1px 3px 1px rgba(60, 64, 67, 0.15);\n",
              "      fill: #174EA6;\n",
              "    }\n",
              "\n",
              "    [theme=dark] .colab-df-convert {\n",
              "      background-color: #3B4455;\n",
              "      fill: #D2E3FC;\n",
              "    }\n",
              "\n",
              "    [theme=dark] .colab-df-convert:hover {\n",
              "      background-color: #434B5C;\n",
              "      box-shadow: 0px 1px 3px 1px rgba(0, 0, 0, 0.15);\n",
              "      filter: drop-shadow(0px 1px 2px rgba(0, 0, 0, 0.3));\n",
              "      fill: #FFFFFF;\n",
              "    }\n",
              "  </style>\n",
              "\n",
              "      <script>\n",
              "        const buttonEl =\n",
              "          document.querySelector('#df-89d0dd87-5178-4d46-b7e1-a40f9e74c5eb button.colab-df-convert');\n",
              "        buttonEl.style.display =\n",
              "          google.colab.kernel.accessAllowed ? 'block' : 'none';\n",
              "\n",
              "        async function convertToInteractive(key) {\n",
              "          const element = document.querySelector('#df-89d0dd87-5178-4d46-b7e1-a40f9e74c5eb');\n",
              "          const dataTable =\n",
              "            await google.colab.kernel.invokeFunction('convertToInteractive',\n",
              "                                                     [key], {});\n",
              "          if (!dataTable) return;\n",
              "\n",
              "          const docLinkHtml = 'Like what you see? Visit the ' +\n",
              "            '<a target=\"_blank\" href=https://colab.research.google.com/notebooks/data_table.ipynb>data table notebook</a>'\n",
              "            + ' to learn more about interactive tables.';\n",
              "          element.innerHTML = '';\n",
              "          dataTable['output_type'] = 'display_data';\n",
              "          await google.colab.output.renderOutput(dataTable, element);\n",
              "          const docLink = document.createElement('div');\n",
              "          docLink.innerHTML = docLinkHtml;\n",
              "          element.appendChild(docLink);\n",
              "        }\n",
              "      </script>\n",
              "    </div>\n",
              "  </div>\n",
              "  "
            ],
            "text/plain": [
              "   PRODUCT_ID                                              TITLE  \\\n",
              "0      604373  Manuel d'Héliogravure Et de Photogravure En Re...   \n",
              "1     1729783  DCGARING Microfiber Throw Blanket Warm Fuzzy P...   \n",
              "2     1871949  I-Match Auto Parts Front License Plate Bracket...   \n",
              "3     1107571  PinMart Gold Plated Excellence in Service 1 Ye...   \n",
              "4      624253  Visual Mathematics, Illustrated by the TI-92 a...   \n",
              "\n",
              "                                       BULLET_POINTS  \\\n",
              "0                                                      \n",
              "1  [QUALITY GUARANTEED: Luxury cozy plush polyest...   \n",
              "2  [Front License Plate Bracket Made Of Plastic,D...   \n",
              "3  [Available as a single item or bulk packed. Se...   \n",
              "4                                                      \n",
              "\n",
              "                                         DESCRIPTION  PRODUCT_TYPE_ID  \\\n",
              "0                                                                6142   \n",
              "1  <b>DCGARING Throw Blanket</b><br><br> <b>Size ...             1622   \n",
              "2  Replacement for The Following Vehicles:2020 LE...             7540   \n",
              "3  Our Excellence in Service Lapel Pins feature a...            12442   \n",
              "4                                                                6318   \n",
              "\n",
              "   PRODUCT_ID_log1p  \n",
              "0         13.311948  \n",
              "1         14.363507  \n",
              "2         14.442491  \n",
              "3         13.917681  \n",
              "4         13.344313  "
            ]
          },
          "execution_count": 26,
          "metadata": {},
          "output_type": "execute_result"
        }
      ],
      "source": [
        "test_data.head()"
      ]
    },
    {
      "cell_type": "code",
      "execution_count": null,
      "metadata": {
        "colab": {
          "base_uri": "https://localhost:8080/",
          "height": 672
        },
        "id": "vFhdZaN6UmOf",
        "outputId": "3dddd60a-6744-4c30-8e69-1aac1565ab5b"
      },
      "outputs": [
        {
          "name": "stderr",
          "output_type": "stream",
          "text": [
            "<ipython-input-29-9c1377734002>:1: UserWarning: \n",
            "\n",
            "`distplot` is a deprecated function and will be removed in seaborn v0.14.0.\n",
            "\n",
            "Please adapt your code to use either `displot` (a figure-level function with\n",
            "similar flexibility) or `histplot` (an axes-level function for histograms).\n",
            "\n",
            "For a guide to updating your code to use the new functions, please see\n",
            "https://gist.github.com/mwaskom/de44147ed2974457ad6372750bbe5751\n",
            "\n",
            "  sns.distplot(dataset['PRODUCT_LENGTH_log1p']).set_title(\"Distribution of log(1 + PRODUCT_LENGTH)\");\n"
          ]
        },
        {
          "data": {
            "image/png": "[encoded data removed]",
            "text/plain": [
              "<Figure size 640x480 with 1 Axes>"
            ]
          },
          "metadata": {},
          "output_type": "display_data"
        }
      ],
      "source": [
        "sns.distplot(dataset['PRODUCT_LENGTH_log1p']).set_title(\"Distribution of log(1 + PRODUCT_LENGTH)\");"
      ]
    },
    {
      "cell_type": "code",
      "execution_count": null,
      "metadata": {
        "colab": {
          "base_uri": "https://localhost:8080/"
        },
        "id": "BhBBdBcScCei",
        "outputId": "188a40af-11df-4fb2-e898-765143402ab2"
      },
      "outputs": [
        {
          "data": {
            "text/plain": [
              "(2217443, 2217443)"
            ]
          },
          "execution_count": 30,
          "metadata": {},
          "output_type": "execute_result"
        }
      ],
      "source": [
        "dataset[\"PRODUCT_ID_log1p\"].shape[0], one_hot_features.shape[0]"
      ]
    },
    {
      "cell_type": "markdown",
      "metadata": {
        "id": "SmQH3C7hJMN-"
      },
      "source": [
        "## Combining Numerical & One Hot Features"
      ]
    },
    {
      "cell_type": "code",
      "execution_count": null,
      "metadata": {
        "id": "bDO2_5YSa-ap"
      },
      "outputs": [],
      "source": [
        "from sklearn.model_selection import train_test_split\n",
        "\n",
        "numerical_feature_names = [\"PRODUCT_ID_log1p\"]\n",
        "numerical_features = dataset[numerical_feature_names]\n",
        "scaler = preprocessing.MinMaxScaler()\n",
        "numerical_features = scaler.fit_transform(numerical_features) # Need to scale numerical features for ridge regression\n",
        "\n",
        "# Combine numerical features with one-hot-encoded features\n",
        "features = scipy.sparse.hstack((numerical_features, one_hot_features),format='csr') \n",
        "all_feature_names = np.hstack((numerical_feature_names,one_hot_names)) # Store names of all features for later interpretation\n",
        "\n",
        "target_column = ['PRODUCT_LENGTH_log1p'] # We will fit log(1 + price) \n",
        "target = dataset[target_column].values\n",
        "\n",
        "# Perform train and test split of data\n",
        "rand_seed = 42 # For other models we will use the same random seed, so that we're always using the same train-test split\n",
        "features_train, features_test, target_train, target_test = train_test_split(features, target, test_size=0.2, random_state=rand_seed)"
      ]
    },
    {
      "cell_type": "code",
      "execution_count": null,
      "metadata": {
        "colab": {
          "base_uri": "https://localhost:8080/",
          "height": 299
        },
        "id": "jjeke2YFoK5U",
        "outputId": "e5a9a153-5e64-4b3f-e240-35d30f847d7f"
      },
      "outputs": [
        {
          "data": {
            "text/html": [
              "\n",
              "  <div id=\"df-a02527f5-dbad-4e0b-9de0-021a8038b12f\">\n",
              "    <div class=\"colab-df-container\">\n",
              "      <div>\n",
              "<style scoped>\n",
              "    .dataframe tbody tr th:only-of-type {\n",
              "        vertical-align: middle;\n",
              "    }\n",
              "\n",
              "    .dataframe tbody tr th {\n",
              "        vertical-align: top;\n",
              "    }\n",
              "\n",
              "    .dataframe thead th {\n",
              "        text-align: right;\n",
              "    }\n",
              "</style>\n",
              "<table border=\"1\" class=\"dataframe\">\n",
              "  <thead>\n",
              "    <tr style=\"text-align: right;\">\n",
              "      <th></th>\n",
              "      <th>PRODUCT_TYPE_ID_0</th>\n",
              "      <th>PRODUCT_TYPE_ID_1</th>\n",
              "      <th>PRODUCT_TYPE_ID_2</th>\n",
              "      <th>PRODUCT_TYPE_ID_3</th>\n",
              "      <th>PRODUCT_TYPE_ID_4</th>\n",
              "      <th>PRODUCT_TYPE_ID_5</th>\n",
              "      <th>PRODUCT_TYPE_ID_6</th>\n",
              "      <th>PRODUCT_TYPE_ID_7</th>\n",
              "      <th>PRODUCT_TYPE_ID_8</th>\n",
              "      <th>PRODUCT_TYPE_ID_9</th>\n",
              "      <th>...</th>\n",
              "      <th>PRODUCT_TYPE_ID_13411</th>\n",
              "      <th>PRODUCT_TYPE_ID_13412</th>\n",
              "      <th>PRODUCT_TYPE_ID_13413</th>\n",
              "      <th>PRODUCT_TYPE_ID_13414</th>\n",
              "      <th>PRODUCT_TYPE_ID_13415</th>\n",
              "      <th>PRODUCT_TYPE_ID_13416</th>\n",
              "      <th>PRODUCT_TYPE_ID_13417</th>\n",
              "      <th>PRODUCT_TYPE_ID_13418</th>\n",
              "      <th>PRODUCT_TYPE_ID_13419</th>\n",
              "      <th>PRODUCT_TYPE_ID_13420</th>\n",
              "    </tr>\n",
              "  </thead>\n",
              "  <tbody>\n",
              "    <tr>\n",
              "      <th>0</th>\n",
              "      <td>0.0</td>\n",
              "      <td>0.0</td>\n",
              "      <td>0.0</td>\n",
              "      <td>0.0</td>\n",
              "      <td>0.0</td>\n",
              "      <td>0.0</td>\n",
              "      <td>0.0</td>\n",
              "      <td>0.0</td>\n",
              "      <td>0.0</td>\n",
              "      <td>0.0</td>\n",
              "      <td>...</td>\n",
              "      <td>0.0</td>\n",
              "      <td>0.0</td>\n",
              "      <td>0.0</td>\n",
              "      <td>0.0</td>\n",
              "      <td>0.0</td>\n",
              "      <td>0.0</td>\n",
              "      <td>0.0</td>\n",
              "      <td>0.0</td>\n",
              "      <td>0.0</td>\n",
              "      <td>0.0</td>\n",
              "    </tr>\n",
              "    <tr>\n",
              "      <th>1</th>\n",
              "      <td>0.0</td>\n",
              "      <td>0.0</td>\n",
              "      <td>0.0</td>\n",
              "      <td>0.0</td>\n",
              "      <td>0.0</td>\n",
              "      <td>0.0</td>\n",
              "      <td>0.0</td>\n",
              "      <td>0.0</td>\n",
              "      <td>0.0</td>\n",
              "      <td>0.0</td>\n",
              "      <td>...</td>\n",
              "      <td>0.0</td>\n",
              "      <td>0.0</td>\n",
              "      <td>0.0</td>\n",
              "      <td>0.0</td>\n",
              "      <td>0.0</td>\n",
              "      <td>0.0</td>\n",
              "      <td>0.0</td>\n",
              "      <td>0.0</td>\n",
              "      <td>0.0</td>\n",
              "      <td>0.0</td>\n",
              "    </tr>\n",
              "    <tr>\n",
              "      <th>2</th>\n",
              "      <td>0.0</td>\n",
              "      <td>0.0</td>\n",
              "      <td>0.0</td>\n",
              "      <td>0.0</td>\n",
              "      <td>0.0</td>\n",
              "      <td>0.0</td>\n",
              "      <td>0.0</td>\n",
              "      <td>0.0</td>\n",
              "      <td>0.0</td>\n",
              "      <td>0.0</td>\n",
              "      <td>...</td>\n",
              "      <td>0.0</td>\n",
              "      <td>0.0</td>\n",
              "      <td>0.0</td>\n",
              "      <td>0.0</td>\n",
              "      <td>0.0</td>\n",
              "      <td>0.0</td>\n",
              "      <td>0.0</td>\n",
              "      <td>0.0</td>\n",
              "      <td>0.0</td>\n",
              "      <td>0.0</td>\n",
              "    </tr>\n",
              "    <tr>\n",
              "      <th>3</th>\n",
              "      <td>0.0</td>\n",
              "      <td>0.0</td>\n",
              "      <td>0.0</td>\n",
              "      <td>0.0</td>\n",
              "      <td>0.0</td>\n",
              "      <td>0.0</td>\n",
              "      <td>0.0</td>\n",
              "      <td>0.0</td>\n",
              "      <td>0.0</td>\n",
              "      <td>0.0</td>\n",
              "      <td>...</td>\n",
              "      <td>0.0</td>\n",
              "      <td>0.0</td>\n",
              "      <td>0.0</td>\n",
              "      <td>0.0</td>\n",
              "      <td>0.0</td>\n",
              "      <td>0.0</td>\n",
              "      <td>0.0</td>\n",
              "      <td>0.0</td>\n",
              "      <td>0.0</td>\n",
              "      <td>0.0</td>\n",
              "    </tr>\n",
              "    <tr>\n",
              "      <th>4</th>\n",
              "      <td>0.0</td>\n",
              "      <td>0.0</td>\n",
              "      <td>0.0</td>\n",
              "      <td>0.0</td>\n",
              "      <td>0.0</td>\n",
              "      <td>0.0</td>\n",
              "      <td>0.0</td>\n",
              "      <td>0.0</td>\n",
              "      <td>0.0</td>\n",
              "      <td>0.0</td>\n",
              "      <td>...</td>\n",
              "      <td>0.0</td>\n",
              "      <td>0.0</td>\n",
              "      <td>0.0</td>\n",
              "      <td>0.0</td>\n",
              "      <td>0.0</td>\n",
              "      <td>0.0</td>\n",
              "      <td>0.0</td>\n",
              "      <td>0.0</td>\n",
              "      <td>0.0</td>\n",
              "      <td>0.0</td>\n",
              "    </tr>\n",
              "  </tbody>\n",
              "</table>\n",
              "<p>5 rows × 13391 columns</p>\n",
              "</div>\n",
              "      <button class=\"colab-df-convert\" onclick=\"convertToInteractive('df-a02527f5-dbad-4e0b-9de0-021a8038b12f')\"\n",
              "              title=\"Convert this dataframe to an interactive table.\"\n",
              "              style=\"display:none;\">\n",
              "        \n",
              "  <svg xmlns=\"http://www.w3.org/2000/svg\" height=\"24px\"viewBox=\"0 0 24 24\"\n",
              "       width=\"24px\">\n",
              "    <path d=\"M0 0h24v24H0V0z\" fill=\"none\"/>\n",
              "    <path d=\"M18.56 5.44l.94 2.06.94-2.06 2.06-.94-2.06-.94-.94-2.06-.94 2.06-2.06.94zm-11 1L8.5 8.5l.94-2.06 2.06-.94-2.06-.94L8.5 2.5l-.94 2.06-2.06.94zm10 10l.94 2.06.94-2.06 2.06-.94-2.06-.94-.94-2.06-.94 2.06-2.06.94z\"/><path d=\"M17.41 7.96l-1.37-1.37c-.4-.4-.92-.59-1.43-.59-.52 0-1.04.2-1.43.59L10.3 9.45l-7.72 7.72c-.78.78-.78 2.05 0 2.83L4 21.41c.39.39.9.59 1.41.59.51 0 1.02-.2 1.41-.59l7.78-7.78 2.81-2.81c.8-.78.8-2.07 0-2.86zM5.41 20L4 18.59l7.72-7.72 1.47 1.35L5.41 20z\"/>\n",
              "  </svg>\n",
              "      </button>\n",
              "      \n",
              "  <style>\n",
              "    .colab-df-container {\n",
              "      display:flex;\n",
              "      flex-wrap:wrap;\n",
              "      gap: 12px;\n",
              "    }\n",
              "\n",
              "    .colab-df-convert {\n",
              "      background-color: #E8F0FE;\n",
              "      border: none;\n",
              "      border-radius: 50%;\n",
              "      cursor: pointer;\n",
              "      display: none;\n",
              "      fill: #1967D2;\n",
              "      height: 32px;\n",
              "      padding: 0 0 0 0;\n",
              "      width: 32px;\n",
              "    }\n",
              "\n",
              "    .colab-df-convert:hover {\n",
              "      background-color: #E2EBFA;\n",
              "      box-shadow: 0px 1px 2px rgba(60, 64, 67, 0.3), 0px 1px 3px 1px rgba(60, 64, 67, 0.15);\n",
              "      fill: #174EA6;\n",
              "    }\n",
              "\n",
              "    [theme=dark] .colab-df-convert {\n",
              "      background-color: #3B4455;\n",
              "      fill: #D2E3FC;\n",
              "    }\n",
              "\n",
              "    [theme=dark] .colab-df-convert:hover {\n",
              "      background-color: #434B5C;\n",
              "      box-shadow: 0px 1px 3px 1px rgba(0, 0, 0, 0.15);\n",
              "      filter: drop-shadow(0px 1px 2px rgba(0, 0, 0, 0.3));\n",
              "      fill: #FFFFFF;\n",
              "    }\n",
              "  </style>\n",
              "\n",
              "      <script>\n",
              "        const buttonEl =\n",
              "          document.querySelector('#df-a02527f5-dbad-4e0b-9de0-021a8038b12f button.colab-df-convert');\n",
              "        buttonEl.style.display =\n",
              "          google.colab.kernel.accessAllowed ? 'block' : 'none';\n",
              "\n",
              "        async function convertToInteractive(key) {\n",
              "          const element = document.querySelector('#df-a02527f5-dbad-4e0b-9de0-021a8038b12f');\n",
              "          const dataTable =\n",
              "            await google.colab.kernel.invokeFunction('convertToInteractive',\n",
              "                                                     [key], {});\n",
              "          if (!dataTable) return;\n",
              "\n",
              "          const docLinkHtml = 'Like what you see? Visit the ' +\n",
              "            '<a target=\"_blank\" href=https://colab.research.google.com/notebooks/data_table.ipynb>data table notebook</a>'\n",
              "            + ' to learn more about interactive tables.';\n",
              "          element.innerHTML = '';\n",
              "          dataTable['output_type'] = 'display_data';\n",
              "          await google.colab.output.renderOutput(dataTable, element);\n",
              "          const docLink = document.createElement('div');\n",
              "          docLink.innerHTML = docLinkHtml;\n",
              "          element.appendChild(docLink);\n",
              "        }\n",
              "      </script>\n",
              "    </div>\n",
              "  </div>\n",
              "  "
            ],
            "text/plain": [
              "   PRODUCT_TYPE_ID_0  PRODUCT_TYPE_ID_1  PRODUCT_TYPE_ID_2  PRODUCT_TYPE_ID_3  \\\n",
              "0                0.0                0.0                0.0                0.0   \n",
              "1                0.0                0.0                0.0                0.0   \n",
              "2                0.0                0.0                0.0                0.0   \n",
              "3                0.0                0.0                0.0                0.0   \n",
              "4                0.0                0.0                0.0                0.0   \n",
              "\n",
              "   PRODUCT_TYPE_ID_4  PRODUCT_TYPE_ID_5  PRODUCT_TYPE_ID_6  PRODUCT_TYPE_ID_7  \\\n",
              "0                0.0                0.0                0.0                0.0   \n",
              "1                0.0                0.0                0.0                0.0   \n",
              "2                0.0                0.0                0.0                0.0   \n",
              "3                0.0                0.0                0.0                0.0   \n",
              "4                0.0                0.0                0.0                0.0   \n",
              "\n",
              "   PRODUCT_TYPE_ID_8  PRODUCT_TYPE_ID_9  ...  PRODUCT_TYPE_ID_13411  \\\n",
              "0                0.0                0.0  ...                    0.0   \n",
              "1                0.0                0.0  ...                    0.0   \n",
              "2                0.0                0.0  ...                    0.0   \n",
              "3                0.0                0.0  ...                    0.0   \n",
              "4                0.0                0.0  ...                    0.0   \n",
              "\n",
              "   PRODUCT_TYPE_ID_13412  PRODUCT_TYPE_ID_13413  PRODUCT_TYPE_ID_13414  \\\n",
              "0                    0.0                    0.0                    0.0   \n",
              "1                    0.0                    0.0                    0.0   \n",
              "2                    0.0                    0.0                    0.0   \n",
              "3                    0.0                    0.0                    0.0   \n",
              "4                    0.0                    0.0                    0.0   \n",
              "\n",
              "   PRODUCT_TYPE_ID_13415  PRODUCT_TYPE_ID_13416  PRODUCT_TYPE_ID_13417  \\\n",
              "0                    0.0                    0.0                    0.0   \n",
              "1                    0.0                    0.0                    0.0   \n",
              "2                    0.0                    0.0                    0.0   \n",
              "3                    0.0                    0.0                    0.0   \n",
              "4                    0.0                    0.0                    0.0   \n",
              "\n",
              "   PRODUCT_TYPE_ID_13418  PRODUCT_TYPE_ID_13419  PRODUCT_TYPE_ID_13420  \n",
              "0                    0.0                    0.0                    0.0  \n",
              "1                    0.0                    0.0                    0.0  \n",
              "2                    0.0                    0.0                    0.0  \n",
              "3                    0.0                    0.0                    0.0  \n",
              "4                    0.0                    0.0                    0.0  \n",
              "\n",
              "[5 rows x 13391 columns]"
            ]
          },
          "execution_count": 23,
          "metadata": {},
          "output_type": "execute_result"
        }
      ],
      "source": [
        "combined = pd.concat([dataset, test_data], axis=0)\n",
        "combined_one_hot_features = encoder.fit_transform(combined[categorical_features])\n",
        "combined_one_hot_names = encoder.get_feature_names_out()\n",
        "combined_one_hot_df = pd.DataFrame.sparse.from_spmatrix(combined_one_hot_features)\n",
        "combined_one_hot_df.columns = combined_one_hot_names # Now we can see the actual meaning of the one-hot feature in the DataFrame\n",
        "combined_one_hot_df.head()"
      ]
    },
    {
      "cell_type": "code",
      "execution_count": null,
      "metadata": {
        "id": "Pf8HC0lfsdDT"
      },
      "outputs": [],
      "source": [
        "combined.fillna(\"\",inplace = True)"
      ]
    },
    {
      "cell_type": "code",
      "execution_count": null,
      "metadata": {
        "id": "InFMPlvOo1Yr"
      },
      "outputs": [],
      "source": [
        "num_train = len(dataset)\n",
        "one_hot_train = combined_one_hot_features[:num_train]\n",
        "one_hot_test = combined_one_hot_features[num_train:]"
      ]
    },
    {
      "cell_type": "code",
      "execution_count": null,
      "metadata": {
        "colab": {
          "base_uri": "https://localhost:8080/"
        },
        "id": "3_tXK974tAat",
        "outputId": "253dda2e-caec-4865-8db9-4046bba464c3"
      },
      "outputs": [
        {
          "data": {
            "text/plain": [
              "PRODUCT_ID              0\n",
              "TITLE                   0\n",
              "BULLET_POINTS           0\n",
              "DESCRIPTION             0\n",
              "PRODUCT_TYPE_ID         0\n",
              "PRODUCT_LENGTH          0\n",
              "PRODUCT_ID_log1p        0\n",
              "PRODUCT_LENGTH_log1p    0\n",
              "dtype: int64"
            ]
          },
          "execution_count": 26,
          "metadata": {},
          "output_type": "execute_result"
        }
      ],
      "source": [
        "combined[:num_train].isna().sum()"
      ]
    },
    {
      "cell_type": "code",
      "execution_count": null,
      "metadata": {
        "id": "BIdKnfDvq9BP"
      },
      "outputs": [],
      "source": [
        "target_train = combined[\"PRODUCT_LENGTH_log1p\"][:num_train]\n",
        "target_test = combined[\"PRODUCT_LENGTH_log1p\"][num_train:]"
      ]
    },
    {
      "cell_type": "code",
      "execution_count": null,
      "metadata": {
        "id": "Me6CTFHFpSaH"
      },
      "outputs": [],
      "source": [
        "numerical_features = numerical_features.reshape(2217443,1)"
      ]
    },
    {
      "cell_type": "code",
      "execution_count": null,
      "metadata": {
        "id": "GzTDzZEppaKc"
      },
      "outputs": [],
      "source": [
        "test_numerical_features = test_numerical_features.reshape(734736,1)"
      ]
    },
    {
      "cell_type": "markdown",
      "metadata": {
        "id": "e7QQ4VQKJUCw"
      },
      "source": [
        "## Importing NLTK Tools For NLP (TF-IDF Vectorization)"
      ]
    },
    {
      "cell_type": "code",
      "execution_count": null,
      "metadata": {
        "id": "AOdvXEwpaXyA"
      },
      "outputs": [],
      "source": [
        "import nltk\n",
        "from nltk import word_tokenize\n",
        "from nltk.stem import WordNetLemmatizer\n",
        "from nltk.corpus import wordnet"
      ]
    },
    {
      "cell_type": "markdown",
      "metadata": {
        "id": "h8C32iaQJaGt"
      },
      "source": [
        "### Preprocessing Text Data (Lowercase Conversion + Punctuation Removal + Lemmatization)"
      ]
    },
    {
      "cell_type": "code",
      "execution_count": null,
      "metadata": {
        "id": "5exBi0Ou4GSO"
      },
      "outputs": [],
      "source": [
        "import string\n",
        "\n",
        "def preprocess_text(text):\n",
        "    # convert to lowercase\n",
        "    text = text.lower()\n",
        "    # remove punctuation\n",
        "    text = text.translate(str.maketrans('', '', string.punctuation))\n",
        "    # lemmatization\n",
        "    lemmatizer = WordNetLemmatizer()\n",
        "    tokens = nltk.word_tokenize(text)\n",
        "    lemmatized_tokens = [lemmatizer.lemmatize(token) for token in tokens]\n",
        "    return ' '.join(lemmatized_tokens)\n",
        "\n",
        "dataset[\"TEXT\"] = dataset[\"TITLE\"].apply(preprocess_text) + \" \" + dataset[\"DESCRIPTION\"].apply(preprocess_text) + \" \" + dataset[\"BULLET_POINTS\"].apply(preprocess_text)\n",
        "test_data[\"TEXT\"] = test_data[\"TITLE\"].apply(preprocess_text) + \" \" + test_data[\"DESCRIPTION\"].apply(preprocess_text) + \" \" + test_data[\"BULLET_POINTS\"].apply(preprocess_text)"
      ]
    },
    {
      "cell_type": "code",
      "execution_count": null,
      "metadata": {
        "id": "ZP1zHteGH8CU"
      },
      "outputs": [],
      "source": [
        "dataset.drop([\"TITLE\",\"DESCRIPTION\",\"BULLET_POINTS\"], axis = 1, inplace = True)\n",
        "test_data.drop([\"TITLE\",\"DESCRIPTION\",\"BULLET_POINTS\"], axis = 1, inplace = True)\n",
        "dataset.to_csv(\"drive/MyDrive/Amazon ML/preprocessed/train.csv\")\n",
        "test_data.to_csv(\"drive/MyDrive/Amazon ML/preprocessed/test.csv\")"
      ]
    },
    {
      "cell_type": "code",
      "execution_count": 1,
      "metadata": {
        "id": "3QCXJZPlXYWz"
      },
      "outputs": [],
      "source": [
        "import pandas as pd\n",
        "dataset = pd.read_csv(\"drive/MyDrive/Amazon ML/preprocessed/train.csv\")\n",
        "test_data = pd.read_csv(\"drive/MyDrive/Amazon ML/preprocessed/test.csv\")"
      ]
    },
    {
      "cell_type": "code",
      "execution_count": 2,
      "metadata": {
        "colab": {
          "base_uri": "https://localhost:8080/"
        },
        "id": "3OY5W2odp8bN",
        "outputId": "b3c267d0-8eda-45e8-f1ce-844240ac8231"
      },
      "outputs": [
        {
          "data": {
            "text/plain": [
              "['drive/MyDrive/AmazonML/word_features_test.joblib']"
            ]
          },
          "execution_count": 2,
          "metadata": {},
          "output_type": "execute_result"
        }
      ],
      "source": [
        "from sklearn.feature_extraction.text import TfidfVectorizer\n",
        "import joblib\n",
        "training_corpus = dataset[\"TEXT\"].values\n",
        "test_corpus = test_data[\"TEXT\"].values\n",
        "vectorizer = TfidfVectorizer(stop_words = 'english') \n",
        "word_features_train = vectorizer.fit_transform(training_corpus)\n",
        "word_features_test = vectorizer.transform(test_corpus)\n",
        "joblib.dump(word_features_train, \"drive/MyDrive/Amazon ML/word_features_train.joblib\")\n",
        "joblib.dump(word_features_test, \"drive/MyDrive/Amazon ML/word_features_test.joblib\")"
      ]
    },
    {
      "cell_type": "code",
      "execution_count": 7,
      "metadata": {
        "id": "bzpKj8Y0LkH3"
      },
      "outputs": [],
      "source": [
        "numerical_features = joblib.load(\"drive/MyDrive/Amazon ML/numerical_features.joblib\")\n",
        "test_numerical_features = joblib.load(\"drive/MyDrive/Amazon ML/numerical_test_features.joblib\")\n",
        "one_hot_train = joblib.load(\"drive/MyDrive/Amazon ML/one_hot_train.joblib\")\n",
        "one_hot_test = joblib.load(\"drive/MyDrive/Amazon ML/one_hot_test.joblib\")"
      ]
    },
    {
      "cell_type": "code",
      "execution_count": 8,
      "metadata": {
        "id": "Lnm-6uf6pBZW"
      },
      "outputs": [],
      "source": [
        "# features_train = np.hstack((numerical_features, one_hot_train))\n",
        "features_train = scipy.sparse.hstack((numerical_features, one_hot_train, word_features_train),format='csr') \n",
        "# features_test = np.hstack((test_numerical_features, one_hot_test))\n",
        "features_test = scipy.sparse.hstack((test_numerical_features, one_hot_test, word_features_test),format='csr') "
      ]
    },
    {
      "cell_type": "markdown",
      "metadata": {
        "id": "uFN8S3QbJjNQ"
      },
      "source": [
        "### Saving Features Using Joblib To Avoid Loss Due To Runtime Disconnection"
      ]
    },
    {
      "cell_type": "code",
      "execution_count": 10,
      "metadata": {
        "colab": {
          "base_uri": "https://localhost:8080/"
        },
        "id": "xZNfkU-Yr1H2",
        "outputId": "e5f769b9-e0f6-4a45-8eec-45fc9b997aaa"
      },
      "outputs": [
        {
          "data": {
            "text/plain": [
              "['drive/MyDrive/AmazonML/features_test.joblib']"
            ]
          },
          "execution_count": 10,
          "metadata": {},
          "output_type": "execute_result"
        }
      ],
      "source": [
        "import joblib\n",
        "joblib.dump(features_train, \"drive/MyDrive/Amazon ML/features_train.joblib\")\n",
        "joblib.dump(features_test, \"drive/MyDrive/Amazon ML/features_test.joblib\")\n",
        "# joblib.dump(target_train, \"drive/MyDrive/AmazonML/target_train.joblib\")"
      ]
    },
    {
      "cell_type": "code",
      "execution_count": 1,
      "metadata": {
        "id": "_Et2NcOiMX_p"
      },
      "outputs": [],
      "source": [
        "import joblib\n",
        "import pandas as pd\n",
        "import numpy as np\n",
        "\n",
        "features_train = joblib.load(\"drive/MyDrive/Amazon ML/features_train.joblib\")\n",
        "features_test = joblib.load(\"drive/MyDrive/Amazon ML/features_test.joblib\")\n",
        "target_train = joblib.load(\"drive/MyDrive/Amazon ML/target_train.joblib\")"
      ]
    },
    {
      "cell_type": "markdown",
      "metadata": {
        "id": "_6a2wWTnJshb"
      },
      "source": [
        "## Training Various Regression Models"
      ]
    },
    {
      "cell_type": "markdown",
      "metadata": {
        "id": "RMbC4dHiJxxe"
      },
      "source": [
        "### 1. Ridge Regression (Best Output)"
      ]
    },
    {
      "cell_type": "code",
      "execution_count": 42,
      "metadata": {
        "colab": {
          "base_uri": "https://localhost:8080/"
        },
        "id": "dkEw8PLeZO7w",
        "outputId": "19f912fa-f2ec-488b-fba2-c35ae0b88d80"
      },
      "outputs": [
        {
          "name": "stdout",
          "output_type": "stream",
          "text": [
            "CPU times: user 30min 10s, sys: 9min 56s, total: 40min 7s\n",
            "Wall time: 28min 44s\n"
          ]
        },
        {
          "data": {
            "text/plain": [
              "['ridge_fit_full.h5']"
            ]
          },
          "execution_count": 42,
          "metadata": {},
          "output_type": "execute_result"
        }
      ],
      "source": [
        "%%time\n",
        "from sklearn.linear_model import Ridge\n",
        "ridge_fit = Ridge(alpha = 1.0, random_state = 42)\n",
        "# ridge_fit = linear_model.RidgeCV(cv = 5)\n",
        "ridge_fit.fit(features_train, target_train)\n",
        "# print(\"RidgeCV found an optimal regularization parameter alpha =\",ridge_fit.alpha_)\n",
        "import joblib\n",
        "joblib.dump(ridge_fit, \"ridge_fit_full.h5\")\n",
        "# # # test_score_no_text = ridge_fit.score(features_test,target_test)\n",
        "# # # print(\"Test score for Ridge Regression without text features:\", test_score_no_text)"
      ]
    },
    {
      "cell_type": "markdown",
      "metadata": {
        "id": "kqgNwgfUJ1sW"
      },
      "source": [
        "### 2. SGD (Stochastic Gradient Descent) Regression"
      ]
    },
    {
      "cell_type": "code",
      "execution_count": 21,
      "metadata": {
        "colab": {
          "base_uri": "https://localhost:8080/"
        },
        "id": "uP9o6jfuvAjX",
        "outputId": "c23e7938-a7bf-4af4-e31e-b412ff42b696"
      },
      "outputs": [
        {
          "name": "stdout",
          "output_type": "stream",
          "text": [
            "-- Epoch 1\n",
            "Norm: 10.97, NNZs: 3989659, Bias: 0.236315, T: 2217443, Avg. loss: 0.433139\n",
            "Total training time: 3.40 seconds.\n",
            "-- Epoch 2\n",
            "Norm: 12.66, NNZs: 3989659, Bias: 0.322522, T: 4434886, Avg. loss: 0.393749\n",
            "Total training time: 8.18 seconds.\n",
            "-- Epoch 3\n",
            "Norm: 13.73, NNZs: 3989659, Bias: 0.392522, T: 6652329, Avg. loss: 0.382309\n",
            "Total training time: 10.89 seconds.\n",
            "-- Epoch 4\n",
            "Norm: 14.52, NNZs: 3989659, Bias: 0.453752, T: 8869772, Avg. loss: 0.375468\n",
            "Total training time: 15.28 seconds.\n",
            "-- Epoch 5\n",
            "Norm: 15.16, NNZs: 3989659, Bias: 0.509659, T: 11087215, Avg. loss: 0.370611\n",
            "Total training time: 18.06 seconds.\n",
            "-- Epoch 6\n",
            "Norm: 15.69, NNZs: 3989659, Bias: 0.561291, T: 13304658, Avg. loss: 0.366834\n",
            "Total training time: 20.43 seconds.\n",
            "-- Epoch 7\n",
            "Norm: 16.14, NNZs: 3989659, Bias: 0.609716, T: 15522101, Avg. loss: 0.363774\n",
            "Total training time: 22.82 seconds.\n",
            "-- Epoch 8\n",
            "Norm: 16.54, NNZs: 3989659, Bias: 0.655727, T: 17739544, Avg. loss: 0.361193\n",
            "Total training time: 25.26 seconds.\n",
            "-- Epoch 9\n",
            "Norm: 16.87, NNZs: 3989659, Bias: 0.699265, T: 19956987, Avg. loss: 0.358972\n",
            "Total training time: 27.69 seconds.\n",
            "-- Epoch 10\n",
            "Norm: 17.20, NNZs: 3989659, Bias: 0.741513, T: 22174430, Avg. loss: 0.357022\n",
            "Total training time: 30.05 seconds.\n",
            "-- Epoch 11\n",
            "Norm: 17.47, NNZs: 3989659, Bias: 0.781862, T: 24391873, Avg. loss: 0.355299\n",
            "Total training time: 32.43 seconds.\n",
            "-- Epoch 12\n",
            "Norm: 17.73, NNZs: 3989659, Bias: 0.820837, T: 26609316, Avg. loss: 0.353735\n",
            "Total training time: 34.81 seconds.\n",
            "-- Epoch 13\n",
            "Norm: 17.95, NNZs: 3989659, Bias: 0.858379, T: 28826759, Avg. loss: 0.352321\n",
            "Total training time: 37.24 seconds.\n",
            "-- Epoch 14\n",
            "Norm: 18.17, NNZs: 3989659, Bias: 0.894955, T: 31044202, Avg. loss: 0.351033\n",
            "Total training time: 39.71 seconds.\n",
            "-- Epoch 15\n",
            "Norm: 18.36, NNZs: 3989659, Bias: 0.930549, T: 33261645, Avg. loss: 0.349843\n",
            "Total training time: 42.11 seconds.\n",
            "-- Epoch 16\n",
            "Norm: 18.54, NNZs: 3989659, Bias: 0.965136, T: 35479088, Avg. loss: 0.348747\n",
            "Total training time: 44.54 seconds.\n",
            "-- Epoch 17\n",
            "Norm: 18.70, NNZs: 3989659, Bias: 0.998892, T: 37696531, Avg. loss: 0.347725\n",
            "Total training time: 46.98 seconds.\n",
            "-- Epoch 18\n",
            "Norm: 18.86, NNZs: 3989659, Bias: 1.032001, T: 39913974, Avg. loss: 0.346775\n",
            "Total training time: 49.44 seconds.\n",
            "-- Epoch 19\n",
            "Norm: 19.01, NNZs: 3989659, Bias: 1.064237, T: 42131417, Avg. loss: 0.345875\n",
            "Total training time: 51.97 seconds.\n",
            "-- Epoch 20\n",
            "Norm: 19.14, NNZs: 3989659, Bias: 1.095769, T: 44348860, Avg. loss: 0.345041\n",
            "Total training time: 54.39 seconds.\n",
            "-- Epoch 21\n",
            "Norm: 19.26, NNZs: 3989659, Bias: 1.126601, T: 46566303, Avg. loss: 0.344244\n",
            "Total training time: 56.79 seconds.\n",
            "-- Epoch 22\n",
            "Norm: 19.38, NNZs: 3989659, Bias: 1.156990, T: 48783746, Avg. loss: 0.343490\n",
            "Total training time: 59.15 seconds.\n",
            "Convergence after 22 epochs took 59.16 seconds\n",
            "CPU times: user 59.9 s, sys: 788 ms, total: 1min\n",
            "Wall time: 59.9 s\n"
          ]
        },
        {
          "data": {
            "text/plain": [
              "['sgd_full.h5']"
            ]
          },
          "execution_count": 21,
          "metadata": {},
          "output_type": "execute_result"
        }
      ],
      "source": [
        "# %%time\n",
        "# import joblib\n",
        "# from sklearn.linear_model import SGDRegressor\n",
        "# sgd = SGDRegressor(max_iter = 15000,\n",
        "#                    validation_fraction = 0.2,\n",
        "#                    random_state = 42,\n",
        "#                    verbose = 2)\n",
        "\n",
        "# sgd.fit(features_train, target_train);\n",
        "# joblib.dump(sgd, \"sgd_full.h5\")"
      ]
    },
    {
      "cell_type": "markdown",
      "metadata": {
        "id": "BLF9NNc4KEcu"
      },
      "source": [
        "### 3. Random Forest Regression"
      ]
    },
    {
      "cell_type": "code",
      "execution_count": 5,
      "metadata": {
        "colab": {
          "base_uri": "https://localhost:8080/"
        },
        "id": "cFkoOrzz1Eeh",
        "outputId": "7c8a64ba-32b4-426e-cd9e-dffd3b052ab8"
      },
      "outputs": [
        {
          "name": "stdout",
          "output_type": "stream",
          "text": [
            "Fitting 5 folds for each of 5 candidates, totalling 25 fits\n",
            "[CV] END max_depth=3, max_features=sqrt, min_samples_leaf=3, min_samples_split=14, n_estimators=50; total time=  43.2s\n",
            "[CV] END max_depth=3, max_features=sqrt, min_samples_leaf=3, min_samples_split=14, n_estimators=50; total time=  42.1s\n",
            "[CV] END max_depth=3, max_features=sqrt, min_samples_leaf=3, min_samples_split=14, n_estimators=50; total time=  48.1s\n",
            "[CV] END max_depth=3, max_features=sqrt, min_samples_leaf=3, min_samples_split=14, n_estimators=50; total time=  44.9s\n",
            "[CV] END max_depth=3, max_features=sqrt, min_samples_leaf=3, min_samples_split=14, n_estimators=50; total time=  44.0s\n",
            "[CV] END max_depth=3, max_features=0.5, min_samples_leaf=15, min_samples_split=18, n_estimators=30; total time=11.4min\n",
            "[CV] END max_depth=3, max_features=0.5, min_samples_leaf=15, min_samples_split=18, n_estimators=30; total time=10.4min\n",
            "[CV] END max_depth=3, max_features=0.5, min_samples_leaf=15, min_samples_split=18, n_estimators=30; total time=10.6min\n",
            "[CV] END max_depth=3, max_features=0.5, min_samples_leaf=15, min_samples_split=18, n_estimators=30; total time=10.4min\n",
            "[CV] END max_depth=3, max_features=0.5, min_samples_leaf=15, min_samples_split=18, n_estimators=30; total time=11.1min\n",
            "[CV] END max_depth=3, max_features=sqrt, min_samples_leaf=15, min_samples_split=18, n_estimators=10; total time=  10.3s\n",
            "[CV] END max_depth=3, max_features=sqrt, min_samples_leaf=15, min_samples_split=18, n_estimators=10; total time=  10.1s\n",
            "[CV] END max_depth=3, max_features=sqrt, min_samples_leaf=15, min_samples_split=18, n_estimators=10; total time=  10.6s\n",
            "[CV] END max_depth=3, max_features=sqrt, min_samples_leaf=15, min_samples_split=18, n_estimators=10; total time=  10.2s\n",
            "[CV] END max_depth=3, max_features=sqrt, min_samples_leaf=15, min_samples_split=18, n_estimators=10; total time=  10.3s\n",
            "[CV] END max_depth=3, max_features=1, min_samples_leaf=15, min_samples_split=4, n_estimators=70; total time=  11.7s\n",
            "[CV] END max_depth=3, max_features=1, min_samples_leaf=15, min_samples_split=4, n_estimators=70; total time=  11.0s\n",
            "[CV] END max_depth=3, max_features=1, min_samples_leaf=15, min_samples_split=4, n_estimators=70; total time=  11.6s\n",
            "[CV] END max_depth=3, max_features=1, min_samples_leaf=15, min_samples_split=4, n_estimators=70; total time=  11.3s\n",
            "[CV] END max_depth=3, max_features=1, min_samples_leaf=15, min_samples_split=4, n_estimators=70; total time=  11.1s\n",
            "[CV] END max_depth=10, max_features=1, min_samples_leaf=17, min_samples_split=12, n_estimators=40; total time=   7.1s\n",
            "[CV] END max_depth=10, max_features=1, min_samples_leaf=17, min_samples_split=12, n_estimators=40; total time=   7.2s\n",
            "[CV] END max_depth=10, max_features=1, min_samples_leaf=17, min_samples_split=12, n_estimators=40; total time=   7.4s\n",
            "[CV] END max_depth=10, max_features=1, min_samples_leaf=17, min_samples_split=12, n_estimators=40; total time=   7.4s\n",
            "[CV] END max_depth=10, max_features=1, min_samples_leaf=17, min_samples_split=12, n_estimators=40; total time=   7.4s\n",
            "CPU times: user 1h 13min 26s, sys: 41.9 s, total: 1h 14min 8s\n",
            "Wall time: 1h 13min 47s\n"
          ]
        },
        {
          "data": {
            "text/plain": [
              "['random_forest_full.h5']"
            ]
          },
          "execution_count": 5,
          "metadata": {},
          "output_type": "execute_result"
        }
      ],
      "source": [
        "# %%time\n",
        "# from sklearn.ensemble import RandomForestRegressor\n",
        "# from sklearn.model_selection import RandomizedSearchCV\n",
        "\n",
        "# rf_grid = {\"n_estimators\": np.arange(10, 100, 10),\n",
        "#            \"max_depth\": [3, 5, 10],\n",
        "#            \"min_samples_split\": np.arange(2, 20, 2),\n",
        "#            \"min_samples_leaf\": np.arange(1, 20, 2),\n",
        "#            \"max_features\": [0.5, 1, \"sqrt\"]}\n",
        "\n",
        "# # Instantiate Model\n",
        "\n",
        "# rs_model = RandomizedSearchCV(RandomForestRegressor(),\n",
        "#                               param_distributions = rf_grid,\n",
        "#                               n_iter = 5, # 100 iters takes 2 hours and gives better results\n",
        "#                               cv = 5,\n",
        "#                               verbose = 2)\n",
        "\n",
        "# # Fit Model\n",
        "\n",
        "# rs_model.fit(features_train, target_train);\n",
        "# import joblib\n",
        "# joblib.dump(rs_model, \"random_forest_full.h5\")\n",
        "# # test_score_no_text = rs_model.score(features_test,target_test)\n",
        "# # print(\"Test score for RandomForest without text features:\", test_score_no_text)"
      ]
    },
    {
      "cell_type": "code",
      "execution_count": null,
      "metadata": {
        "id": "HdW9uoIeeTwA"
      },
      "outputs": [],
      "source": [
        "# from sklearn.metrics import mean_absolute_percentage_error\n",
        "# score = max( 0 , 100 * ( 1 - mean_absolute_percentage_error( target_test, ridge_fit.predict(features_test))))\n",
        "# score"
      ]
    },
    {
      "cell_type": "markdown",
      "metadata": {
        "id": "paAjxkJGKJ-H"
      },
      "source": [
        "## Making Predictions Using Ridge Regression Model"
      ]
    },
    {
      "cell_type": "code",
      "execution_count": 43,
      "metadata": {
        "id": "fpTlrZa1w02n"
      },
      "outputs": [],
      "source": [
        "preds = ridge_fit.predict(features_test)"
      ]
    },
    {
      "cell_type": "code",
      "execution_count": 47,
      "metadata": {
        "id": "QJJgYNsqEvzY"
      },
      "outputs": [],
      "source": [
        "preds = np.expm1(preds)"
      ]
    },
    {
      "cell_type": "code",
      "execution_count": 48,
      "metadata": {
        "id": "ZoKPDgVvg1TV"
      },
      "outputs": [],
      "source": [
        "sample_submission_df[\"PRODUCT_LENGTH\"] = preds"
      ]
    },
    {
      "cell_type": "code",
      "execution_count": 49,
      "metadata": {
        "colab": {
          "base_uri": "https://localhost:8080/",
          "height": 206
        },
        "id": "a-Ja56ZGxP_F",
        "outputId": "f2b5e08d-5973-44b4-a899-d96369c5e3f5"
      },
      "outputs": [
        {
          "data": {
            "text/html": [
              "\n",
              "  <div id=\"df-9948fef6-46db-47aa-ac43-af769b21f073\">\n",
              "    <div class=\"colab-df-container\">\n",
              "      <div>\n",
              "<style scoped>\n",
              "    .dataframe tbody tr th:only-of-type {\n",
              "        vertical-align: middle;\n",
              "    }\n",
              "\n",
              "    .dataframe tbody tr th {\n",
              "        vertical-align: top;\n",
              "    }\n",
              "\n",
              "    .dataframe thead th {\n",
              "        text-align: right;\n",
              "    }\n",
              "</style>\n",
              "<table border=\"1\" class=\"dataframe\">\n",
              "  <thead>\n",
              "    <tr style=\"text-align: right;\">\n",
              "      <th></th>\n",
              "      <th>PRODUCT_ID</th>\n",
              "      <th>PRODUCT_LENGTH</th>\n",
              "    </tr>\n",
              "  </thead>\n",
              "  <tbody>\n",
              "    <tr>\n",
              "      <th>0</th>\n",
              "      <td>604373</td>\n",
              "      <td>642.700650</td>\n",
              "    </tr>\n",
              "    <tr>\n",
              "      <th>1</th>\n",
              "      <td>1729783</td>\n",
              "      <td>6297.427115</td>\n",
              "    </tr>\n",
              "    <tr>\n",
              "      <th>2</th>\n",
              "      <td>1871949</td>\n",
              "      <td>941.933695</td>\n",
              "    </tr>\n",
              "    <tr>\n",
              "      <th>3</th>\n",
              "      <td>1107571</td>\n",
              "      <td>61.202666</td>\n",
              "    </tr>\n",
              "    <tr>\n",
              "      <th>4</th>\n",
              "      <td>624253</td>\n",
              "      <td>817.448360</td>\n",
              "    </tr>\n",
              "  </tbody>\n",
              "</table>\n",
              "</div>\n",
              "      <button class=\"colab-df-convert\" onclick=\"convertToInteractive('df-9948fef6-46db-47aa-ac43-af769b21f073')\"\n",
              "              title=\"Convert this dataframe to an interactive table.\"\n",
              "              style=\"display:none;\">\n",
              "        \n",
              "  <svg xmlns=\"http://www.w3.org/2000/svg\" height=\"24px\"viewBox=\"0 0 24 24\"\n",
              "       width=\"24px\">\n",
              "    <path d=\"M0 0h24v24H0V0z\" fill=\"none\"/>\n",
              "    <path d=\"M18.56 5.44l.94 2.06.94-2.06 2.06-.94-2.06-.94-.94-2.06-.94 2.06-2.06.94zm-11 1L8.5 8.5l.94-2.06 2.06-.94-2.06-.94L8.5 2.5l-.94 2.06-2.06.94zm10 10l.94 2.06.94-2.06 2.06-.94-2.06-.94-.94-2.06-.94 2.06-2.06.94z\"/><path d=\"M17.41 7.96l-1.37-1.37c-.4-.4-.92-.59-1.43-.59-.52 0-1.04.2-1.43.59L10.3 9.45l-7.72 7.72c-.78.78-.78 2.05 0 2.83L4 21.41c.39.39.9.59 1.41.59.51 0 1.02-.2 1.41-.59l7.78-7.78 2.81-2.81c.8-.78.8-2.07 0-2.86zM5.41 20L4 18.59l7.72-7.72 1.47 1.35L5.41 20z\"/>\n",
              "  </svg>\n",
              "      </button>\n",
              "      \n",
              "  <style>\n",
              "    .colab-df-container {\n",
              "      display:flex;\n",
              "      flex-wrap:wrap;\n",
              "      gap: 12px;\n",
              "    }\n",
              "\n",
              "    .colab-df-convert {\n",
              "      background-color: #E8F0FE;\n",
              "      border: none;\n",
              "      border-radius: 50%;\n",
              "      cursor: pointer;\n",
              "      display: none;\n",
              "      fill: #1967D2;\n",
              "      height: 32px;\n",
              "      padding: 0 0 0 0;\n",
              "      width: 32px;\n",
              "    }\n",
              "\n",
              "    .colab-df-convert:hover {\n",
              "      background-color: #E2EBFA;\n",
              "      box-shadow: 0px 1px 2px rgba(60, 64, 67, 0.3), 0px 1px 3px 1px rgba(60, 64, 67, 0.15);\n",
              "      fill: #174EA6;\n",
              "    }\n",
              "\n",
              "    [theme=dark] .colab-df-convert {\n",
              "      background-color: #3B4455;\n",
              "      fill: #D2E3FC;\n",
              "    }\n",
              "\n",
              "    [theme=dark] .colab-df-convert:hover {\n",
              "      background-color: #434B5C;\n",
              "      box-shadow: 0px 1px 3px 1px rgba(0, 0, 0, 0.15);\n",
              "      filter: drop-shadow(0px 1px 2px rgba(0, 0, 0, 0.3));\n",
              "      fill: #FFFFFF;\n",
              "    }\n",
              "  </style>\n",
              "\n",
              "      <script>\n",
              "        const buttonEl =\n",
              "          document.querySelector('#df-9948fef6-46db-47aa-ac43-af769b21f073 button.colab-df-convert');\n",
              "        buttonEl.style.display =\n",
              "          google.colab.kernel.accessAllowed ? 'block' : 'none';\n",
              "\n",
              "        async function convertToInteractive(key) {\n",
              "          const element = document.querySelector('#df-9948fef6-46db-47aa-ac43-af769b21f073');\n",
              "          const dataTable =\n",
              "            await google.colab.kernel.invokeFunction('convertToInteractive',\n",
              "                                                     [key], {});\n",
              "          if (!dataTable) return;\n",
              "\n",
              "          const docLinkHtml = 'Like what you see? Visit the ' +\n",
              "            '<a target=\"_blank\" href=https://colab.research.google.com/notebooks/data_table.ipynb>data table notebook</a>'\n",
              "            + ' to learn more about interactive tables.';\n",
              "          element.innerHTML = '';\n",
              "          dataTable['output_type'] = 'display_data';\n",
              "          await google.colab.output.renderOutput(dataTable, element);\n",
              "          const docLink = document.createElement('div');\n",
              "          docLink.innerHTML = docLinkHtml;\n",
              "          element.appendChild(docLink);\n",
              "        }\n",
              "      </script>\n",
              "    </div>\n",
              "  </div>\n",
              "  "
            ],
            "text/plain": [
              "   PRODUCT_ID  PRODUCT_LENGTH\n",
              "0      604373      642.700650\n",
              "1     1729783     6297.427115\n",
              "2     1871949      941.933695\n",
              "3     1107571       61.202666\n",
              "4      624253      817.448360"
            ]
          },
          "execution_count": 49,
          "metadata": {},
          "output_type": "execute_result"
        }
      ],
      "source": [
        "sample_submission_df.head()"
      ]
    },
    {
      "cell_type": "markdown",
      "metadata": {
        "id": "5XeTWQM5KNHD"
      },
      "source": [
        "## Making Submission File"
      ]
    },
    {
      "cell_type": "code",
      "execution_count": 50,
      "metadata": {
        "id": "jRiWpFm9xTa7"
      },
      "outputs": [],
      "source": [
        "sample_submission_df.to_csv(\"drive/MyDrive/Amazon ML/submission.csv\", index = False)"
      ]
    }
  ],
  "metadata": {
    "colab": {
      "machine_shape": "hm",
      "provenance": []
    },
    "gpuClass": "standard",
    "kernelspec": {
      "display_name": "Python 3",
      "name": "python3"
    }
  },
  "nbformat": 4,
  "nbformat_minor": 0
}
