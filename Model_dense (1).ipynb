{
  "cells": [
    {
      "cell_type": "code",
      "execution_count": 12,
      "id": "82b1f662",
      "metadata": {},
      "outputs": [],
      "source": [
        "import numpy as np\n",
        "import pandas as pd\n",
        "import tensorflow as tf\n",
        "from tensorflow.keras.preprocessing.text import Tokenizer\n",
        "from tensorflow.keras.preprocessing.sequence import pad_sequences\n",
        "from tensorflow.keras.layers import Input, Embedding, Flatten, Concatenate, Dense , Dropout\n",
        "from tensorflow.keras.models import Model \n",
        "from keras.callbacks import Callback , EarlyStopping\n",
        "from sklearn.model_selection import train_test_split\n",
        "from sklearn.metrics import mean_squared_error,  mean_absolute_percentage_error\n",
        "\n",
        "\n",
        "class EpochPrintCallback(Callback):\n",
        "    def on_epoch_end(self, epoch, logs=None):\n",
        "        print(f\"Epoch {epoch+1} completed\")"
      ]
    },
    {
      "cell_type": "code",
      "execution_count": 21,
      "id": "ef7ec412",
      "metadata": {},
      "outputs": [
        {
          "data": {
            "text/html": [
              "<div>\n",
              "<style scoped>\n",
              "    .dataframe tbody tr th:only-of-type {\n",
              "        vertical-align: middle;\n",
              "    }\n",
              "\n",
              "    .dataframe tbody tr th {\n",
              "        vertical-align: top;\n",
              "    }\n",
              "\n",
              "    .dataframe thead th {\n",
              "        text-align: right;\n",
              "    }\n",
              "</style>\n",
              "<table border=\"1\" class=\"dataframe\">\n",
              "  <thead>\n",
              "    <tr style=\"text-align: right;\">\n",
              "      <th></th>\n",
              "      <th>PRODUCT_ID</th>\n",
              "      <th>PRODUCT_TYPE_ID</th>\n",
              "      <th>PRODUCT_LENGTH</th>\n",
              "      <th>TEXT</th>\n",
              "    </tr>\n",
              "  </thead>\n",
              "  <tbody>\n",
              "    <tr>\n",
              "      <th>0</th>\n",
              "      <td>1925202</td>\n",
              "      <td>1650</td>\n",
              "      <td>2125.980000</td>\n",
              "      <td>artzfolio tulip flowers blackout curtain door ...</td>\n",
              "    </tr>\n",
              "    <tr>\n",
              "      <th>1</th>\n",
              "      <td>2673191</td>\n",
              "      <td>2755</td>\n",
              "      <td>393.700000</td>\n",
              "      <td>marks spencer girls pyjama sets t86_2561c_navy...</td>\n",
              "    </tr>\n",
              "    <tr>\n",
              "      <th>2</th>\n",
              "      <td>2765088</td>\n",
              "      <td>7537</td>\n",
              "      <td>748.031495</td>\n",
              "      <td>priknik horn red electric air horn compressor ...</td>\n",
              "    </tr>\n",
              "    <tr>\n",
              "      <th>3</th>\n",
              "      <td>1594019</td>\n",
              "      <td>2996</td>\n",
              "      <td>787.401574</td>\n",
              "      <td>alishah womens cotton ankle length leggings co...</td>\n",
              "    </tr>\n",
              "    <tr>\n",
              "      <th>4</th>\n",
              "      <td>283658</td>\n",
              "      <td>6112</td>\n",
              "      <td>598.424000</td>\n",
              "      <td>the united empire loyalists a chronicle great ...</td>\n",
              "    </tr>\n",
              "  </tbody>\n",
              "</table>\n",
              "</div>"
            ],
            "text/plain": [
              "   PRODUCT_ID  PRODUCT_TYPE_ID  PRODUCT_LENGTH   \n",
              "0     1925202             1650     2125.980000  \\\n",
              "1     2673191             2755      393.700000   \n",
              "2     2765088             7537      748.031495   \n",
              "3     1594019             2996      787.401574   \n",
              "4      283658             6112      598.424000   \n",
              "\n",
              "                                                TEXT  \n",
              "0  artzfolio tulip flowers blackout curtain door ...  \n",
              "1  marks spencer girls pyjama sets t86_2561c_navy...  \n",
              "2  priknik horn red electric air horn compressor ...  \n",
              "3  alishah womens cotton ankle length leggings co...  \n",
              "4  the united empire loyalists a chronicle great ...  "
            ]
          },
          "execution_count": 21,
          "metadata": {},
          "output_type": "execute_result"
        }
      ],
      "source": [
        "cleaned_train_df=pd.read_csv(\"C:\\\\Users\\\\thesp\\\\Desktop\\\\Amazon ML\\\\Without Z outlier\\\\cleaned_train.csv\",nrows=500000)\n",
        "cleaned_train_df.head()\n",
        "\n"
      ]
    },
    {
      "cell_type": "code",
      "execution_count": 22,
      "id": "37de10a1",
      "metadata": {},
      "outputs": [],
      "source": [
        "# Define target variable\n",
        "target = 'PRODUCT_LENGTH'\n",
        "\n",
        "# Define features to use for training\n",
        "features = ['PRODUCT_ID','PRODUCT_TYPE_ID', 'TEXT']\n",
        "\n",
        "\n",
        "# Split the data into training, validation, and test sets\n",
        "X_train_val, X_test, y_train_val, y_test = train_test_split(cleaned_train_df[features], cleaned_train_df[target], test_size=0.2, random_state=42)\n",
        "X_train, X_val, y_train, y_val = train_test_split(X_train_val, y_train_val, test_size=0.2, random_state=42)\n"
      ]
    },
    {
      "cell_type": "code",
      "execution_count": 23,
      "id": "8d3760af",
      "metadata": {},
      "outputs": [],
      "source": [
        "# Create a tokenizer and fit it on the input descriptions\n",
        "X_train.dtypes\n",
        "X_train['TEXT'] = X_train['TEXT'].astype('str')\n",
        "tokenizer = Tokenizer()\n",
        "tokenizer.fit_on_texts(X_train['TEXT'].values)\n",
        "\n",
        "X_val.dtypes\n",
        "X_val['TEXT'] = X_val['TEXT'].astype('str')\n",
        "\n",
        "tokenizer.fit_on_texts(X_val['TEXT'].values)"
      ]
    },
    {
      "cell_type": "code",
      "execution_count": 24,
      "id": "08e4eb95",
      "metadata": {},
      "outputs": [],
      "source": [
        "# Convert the input descriptions to sequences\n",
        "description_sequences = tokenizer.texts_to_sequences(X_train['TEXT'].values)\n",
        "description_sequences2 = tokenizer.texts_to_sequences(X_val['TEXT'].values)"
      ]
    },
    {
      "cell_type": "code",
      "execution_count": 25,
      "id": "6c19dcdf",
      "metadata": {},
      "outputs": [],
      "source": [
        "# Pad the input sequences to make them all the same length\n",
        "max_length = 1000\n",
        "padded_description_sequences = pad_sequences(description_sequences, maxlen=max_length, padding='post')\n",
        "padded_description_sequences2 = pad_sequences(description_sequences2, maxlen=max_length, padding='post')"
      ]
    },
    {
      "cell_type": "code",
      "execution_count": 26,
      "id": "e8ced60e",
      "metadata": {},
      "outputs": [],
      "source": [
        "# Store arrays in variables\n",
        "lengths = y_train.values\n",
        "product_ids = X_train['PRODUCT_ID'].values\n",
        "product_type_ids = X_train['PRODUCT_TYPE_ID'].values\n",
        "\n",
        "lengths2 = y_val.values\n",
        "product_ids2 = X_val['PRODUCT_ID'].values\n",
        "product_type_ids2 = X_val['PRODUCT_TYPE_ID'].values"
      ]
    },
    {
      "cell_type": "code",
      "execution_count": 30,
      "id": "00f7392d",
      "metadata": {},
      "outputs": [
        {
          "name": "stdout",
          "output_type": "stream",
          "text": [
            "Epoch 1 completed\n",
            "Epoch 2 completed\n",
            "Epoch 3 completed\n",
            "Epoch 4 completed\n",
            "Epoch 5 completed\n",
            "Epoch 6 completed\n",
            "Epoch 7 completed\n",
            "Epoch 8 completed\n",
            "Epoch 9 completed\n",
            "Epoch 10 completed\n",
            "Epoch 11 completed\n",
            "Restoring model weights from the end of the best epoch: 1.\n",
            "Epoch 11: early stopping\n"
          ]
        },
        {
          "data": {
            "text/plain": [
              "<keras.callbacks.History at 0x1b7d3e54c10>"
            ]
          },
          "execution_count": 30,
          "metadata": {},
          "output_type": "execute_result"
        }
      ],
      "source": [
        "# Define the model\n",
        "description_input = Input(shape=(max_length,))\n",
        "product_type_id_input = Input(shape=(1,))\n",
        "embedding_layer = Embedding(input_dim=len(tokenizer.word_index)+1, output_dim=32, input_length=max_length)(description_input)\n",
        "flatten_layer = Flatten()(embedding_layer)\n",
        "concat_layer = Concatenate()([flatten_layer,   product_type_id_input])\n",
        "dropout_layer = Dropout(0.2)(concat_layer)\n",
        "dense_layer_1 = Dense(64, activation='relu')(dropout_layer)\n",
        "dense_layer_2 = Dense(32, activation='relu')(dense_layer_1)\n",
        "output_layer = Dense(1, activation='linear')(dense_layer_2)\n",
        "model = Model(inputs=[description_input,   product_type_id_input], outputs=output_layer)\n",
        "\n",
        "# Compile the model with the loss function and optimizer\n",
        "model.compile(loss='mse', optimizer='adam')\n",
        "\n",
        "# Define early stopping callback\n",
        "early_stopping = EarlyStopping(monitor='val_loss', patience=10, verbose=1, mode='min', restore_best_weights=True)\n",
        "\n",
        "# Train the model on the input data\n",
        "model.fit([padded_description_sequences, product_type_ids], lengths, validation_data=([padded_description_sequences2, product_type_ids2], lengths2), epochs=100, batch_size=64, verbose=0, callbacks=[EpochPrintCallback(), early_stopping])\n"
      ]
    },
    {
      "cell_type": "code",
      "execution_count": 29,
      "id": "d8d20d48",
      "metadata": {},
      "outputs": [
        {
          "name": "stdout",
          "output_type": "stream",
          "text": [
            "320000\n"
          ]
        }
      ],
      "source": [
        "\n",
        "#model.save('C:\\\\Users\\\\thesp\\\\Desktop\\\\Amazon ML\\\\Without Z outlier\\\\model-500k')\n",
        "#model= tf.keras.models.load_model('model-10k')\n",
        "print(X_train.shape[0])\n"
      ]
    },
    {
      "cell_type": "code",
      "execution_count": 32,
      "id": "dd835181",
      "metadata": {},
      "outputs": [
        {
          "name": "stdout",
          "output_type": "stream",
          "text": [
            "3125/3125 [==============================] - 3s 942us/step\n",
            "Accuracy score: 0.00%\n"
          ]
        }
      ],
      "source": [
        "# Use the model to predict the length of the test data\n",
        "\n",
        "X_test.dtypes\n",
        "X_test['TEXT'] = X_test['TEXT'].astype('str')\n",
        "new_description_sequences = tokenizer.texts_to_sequences(X_test['TEXT'].values)\n",
        "padded_new_description_sequences = pad_sequences(new_description_sequences, maxlen=max_length, padding='post')\n",
        "new_product_type_ids = X_test['PRODUCT_TYPE_ID'].values.reshape(-1, 1)\n",
        "predictions = model.predict([padded_new_description_sequences, new_product_type_ids]).flatten()\n",
        "\n",
        "# Evaluate the model on the test data\n",
        "\n",
        "\n",
        "score = max(0, 100 * (1 - mean_absolute_percentage_error(y_test.values, predictions)))\n",
        "print(f\"Accuracy score: {score:.2f}%\")"
      ]
    },
    {
      "cell_type": "code",
      "execution_count": null,
      "id": "8ebcf3c2",
      "metadata": {},
      "outputs": [],
      "source": []
    }
  ],
  "metadata": {
    "kernelspec": {
      "display_name": "Python 3 (ipykernel)",
      "language": "python",
      "name": "python3"
    },
    "language_info": {
      "codemirror_mode": {
        "name": "ipython",
        "version": 3
      },
      "file_extension": ".py",
      "mimetype": "text/x-python",
      "name": "python",
      "nbconvert_exporter": "python",
      "pygments_lexer": "ipython3",
      "version": "3.8.10"
    }
  },
  "nbformat": 4,
  "nbformat_minor": 5
}
